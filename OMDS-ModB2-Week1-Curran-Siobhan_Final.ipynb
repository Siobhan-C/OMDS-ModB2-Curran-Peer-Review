{
  "cells": [
    {
      "cell_type": "code",
      "execution_count": null,
      "id": "e0392320-e3f8-4e08-a7f2-373d91054cae",
      "metadata": {
        "trusted": true
      },
      "outputs": [],
      "source": []
    },
    {
      "cell_type": "markdown",
      "id": "48a74b5e-5180-4544-86a0-b047a877eb8e",
      "metadata": {},
      "source": [
        "# Week 1 - Preprocessing\n",
        "\n",
        "## Please run the cells of the notebook as you get to them while reading"
      ]
    },
    {
      "cell_type": "code",
      "execution_count": null,
      "id": "5c24f12c-b364-40f0-b295-7c1ba88be680",
      "metadata": {
        "trusted": true
      },
      "outputs": [],
      "source": [
        "import pandas as pd\n",
        "import numpy as np\n",
        "from datetime import datetime, timedelta"
      ]
    },
    {
      "cell_type": "markdown",
      "id": "23c513ee-9d2b-408f-bbcd-33fa70a299e8",
      "metadata": {},
      "source": [
        "# 1. Lesson on how to search for Python commands\n",
        "\n",
        "Let's consider a few possible ways to learn about Python programming.  Let's suppose you want to learn how to produce a short summary of the information in your DataFrame.\n",
        "\n",
        "1. Your **instructor** could provide the information.\n",
        "\n",
        "You could be provided with a lesson about functions like info() and describe().  If you have a pandas DataFrame called df, then you can summarize its contents using df.info() or df.describe().  df.info() provides a list of column names with their counts and data types.  df.describe() will provide information such as the mean, min, max, standard deviation, and quantiles.  Thus:"
      ]
    },
    {
      "cell_type": "code",
      "execution_count": 2,
      "id": "33d97ef1-f92d-45a1-89e6-efea4d42ba75",
      "metadata": {
        "trusted": true
      },
      "outputs": [
        {
          "data": {
            "text/html": [
              "<div>\n",
              "<style scoped>\n",
              "    .dataframe tbody tr th:only-of-type {\n",
              "        vertical-align: middle;\n",
              "    }\n",
              "\n",
              "    .dataframe tbody tr th {\n",
              "        vertical-align: top;\n",
              "    }\n",
              "\n",
              "    .dataframe thead th {\n",
              "        text-align: right;\n",
              "    }\n",
              "</style>\n",
              "<table border=\"1\" class=\"dataframe\">\n",
              "  <thead>\n",
              "    <tr style=\"text-align: right;\">\n",
              "      <th></th>\n",
              "      <th>A</th>\n",
              "      <th>B</th>\n",
              "    </tr>\n",
              "  </thead>\n",
              "  <tbody>\n",
              "    <tr>\n",
              "      <th>count</th>\n",
              "      <td>4.000000</td>\n",
              "      <td>4.000000</td>\n",
              "    </tr>\n",
              "    <tr>\n",
              "      <th>mean</th>\n",
              "      <td>2.500000</td>\n",
              "      <td>5.500000</td>\n",
              "    </tr>\n",
              "    <tr>\n",
              "      <th>std</th>\n",
              "      <td>1.290994</td>\n",
              "      <td>1.290994</td>\n",
              "    </tr>\n",
              "    <tr>\n",
              "      <th>min</th>\n",
              "      <td>1.000000</td>\n",
              "      <td>4.000000</td>\n",
              "    </tr>\n",
              "    <tr>\n",
              "      <th>25%</th>\n",
              "      <td>1.750000</td>\n",
              "      <td>4.750000</td>\n",
              "    </tr>\n",
              "    <tr>\n",
              "      <th>50%</th>\n",
              "      <td>2.500000</td>\n",
              "      <td>5.500000</td>\n",
              "    </tr>\n",
              "    <tr>\n",
              "      <th>75%</th>\n",
              "      <td>3.250000</td>\n",
              "      <td>6.250000</td>\n",
              "    </tr>\n",
              "    <tr>\n",
              "      <th>max</th>\n",
              "      <td>4.000000</td>\n",
              "      <td>7.000000</td>\n",
              "    </tr>\n",
              "  </tbody>\n",
              "</table>\n",
              "</div>"
            ],
            "text/plain": [
              "              A         B\n",
              "count  4.000000  4.000000\n",
              "mean   2.500000  5.500000\n",
              "std    1.290994  1.290994\n",
              "min    1.000000  4.000000\n",
              "25%    1.750000  4.750000\n",
              "50%    2.500000  5.500000\n",
              "75%    3.250000  6.250000\n",
              "max    4.000000  7.000000"
            ]
          },
          "execution_count": 2,
          "metadata": {},
          "output_type": "execute_result"
        }
      ],
      "source": [
        "df = pd.DataFrame([[1, 4], [2, 5], [3, 6], [4, 7]], columns = ['A', 'B'])\n",
        "df.describe()"
      ]
    },
    {
      "cell_type": "markdown",
      "id": "6541ee48-fb69-40d5-8b39-8f1b02918a9e",
      "metadata": {},
      "source": [
        "In this describe() result, we see that the two columns A and B each have four elements.  The means and other statistics are shown.\n",
        "\n",
        "2. You could look up the information on **Google**.\n",
        "\n",
        "If I Google the question \"how do I briefly summarize the contents of a dataframe using Python,\" I receive the following link (among others), which discusses the describe() command mentioned above:\n",
        "\n",
        "https://www.w3schools.com/python/pandas/ref_df_describe.asp\n",
        "\n",
        "It also provide the complete usage information:\n",
        "\n",
        "dataframe.describe(percentiles, include, exclude, datetime_is_numeric)\n",
        "\n",
        "It explains that \"percentiles\" is set by default to [0.25, 0.5, 0.75] but we could change that.  Let's try it!  Since there are three intervals here rather than four, it might be more meaningful to ask about a 33rd and 67th percentile rather than 25, 50, and 75.  We can use 1/3 for 0.33 and 2/3 for 0.67 to get the exact percentile values."
      ]
    },
    {
      "cell_type": "code",
      "execution_count": 3,
      "id": "3aea76dd-f492-4bbe-9431-8e1a41cf0db9",
      "metadata": {
        "trusted": true
      },
      "outputs": [
        {
          "data": {
            "text/html": [
              "<div>\n",
              "<style scoped>\n",
              "    .dataframe tbody tr th:only-of-type {\n",
              "        vertical-align: middle;\n",
              "    }\n",
              "\n",
              "    .dataframe tbody tr th {\n",
              "        vertical-align: top;\n",
              "    }\n",
              "\n",
              "    .dataframe thead th {\n",
              "        text-align: right;\n",
              "    }\n",
              "</style>\n",
              "<table border=\"1\" class=\"dataframe\">\n",
              "  <thead>\n",
              "    <tr style=\"text-align: right;\">\n",
              "      <th></th>\n",
              "      <th>A</th>\n",
              "      <th>B</th>\n",
              "    </tr>\n",
              "  </thead>\n",
              "  <tbody>\n",
              "    <tr>\n",
              "      <th>count</th>\n",
              "      <td>4.000000</td>\n",
              "      <td>4.000000</td>\n",
              "    </tr>\n",
              "    <tr>\n",
              "      <th>mean</th>\n",
              "      <td>2.500000</td>\n",
              "      <td>5.500000</td>\n",
              "    </tr>\n",
              "    <tr>\n",
              "      <th>std</th>\n",
              "      <td>1.290994</td>\n",
              "      <td>1.290994</td>\n",
              "    </tr>\n",
              "    <tr>\n",
              "      <th>min</th>\n",
              "      <td>1.000000</td>\n",
              "      <td>4.000000</td>\n",
              "    </tr>\n",
              "    <tr>\n",
              "      <th>33.3%</th>\n",
              "      <td>2.000000</td>\n",
              "      <td>5.000000</td>\n",
              "    </tr>\n",
              "    <tr>\n",
              "      <th>50%</th>\n",
              "      <td>2.500000</td>\n",
              "      <td>5.500000</td>\n",
              "    </tr>\n",
              "    <tr>\n",
              "      <th>66.7%</th>\n",
              "      <td>3.000000</td>\n",
              "      <td>6.000000</td>\n",
              "    </tr>\n",
              "    <tr>\n",
              "      <th>max</th>\n",
              "      <td>4.000000</td>\n",
              "      <td>7.000000</td>\n",
              "    </tr>\n",
              "  </tbody>\n",
              "</table>\n",
              "</div>"
            ],
            "text/plain": [
              "              A         B\n",
              "count  4.000000  4.000000\n",
              "mean   2.500000  5.500000\n",
              "std    1.290994  1.290994\n",
              "min    1.000000  4.000000\n",
              "33.3%  2.000000  5.000000\n",
              "50%    2.500000  5.500000\n",
              "66.7%  3.000000  6.000000\n",
              "max    4.000000  7.000000"
            ]
          },
          "execution_count": 3,
          "metadata": {},
          "output_type": "execute_result"
        }
      ],
      "source": [
        "df = pd.DataFrame([[1, 4], [2, 5], [3, 6], [4, 7]], columns = ['A', 'B'])\n",
        "df.describe(percentiles = [1/3, 2/3])"
      ]
    },
    {
      "cell_type": "markdown",
      "id": "6cd06ce3-edf9-4786-982d-5650fc22ca58",
      "metadata": {},
      "source": [
        "Apparently, the 50% value (the median) stays even though we did not specifically request it.\n",
        "\n",
        "3. You could look up the official **documentation**.\n",
        "\n",
        "Now that we know we want the pandas describe() function, try Googling: pandas documentation describe.\n",
        "\n",
        "Here is the general documentation page for pandas:\n",
        "\n",
        "https://pandas.pydata.org/docs/index.html\n",
        "\n",
        "Here is the specific page for the describe() function:\n",
        "\n",
        "https://pandas.pydata.org/docs/reference/api/pandas.DataFrame.describe.html\n",
        "\n",
        "When I look at this, it appears to be showing the most recent (currently 2.2) version of pandas; this is shown in the upper right corner.\n",
        "\n",
        "4. You could also ask **ChatGPT**.\n",
        "\n",
        "Let's try it.  ChatGPT, \"how do I briefly summarize the contents of a dataframe using Python\"\n",
        "\n",
        "When I do this, ChatGPT mentions describe() among other options, but does not go into detail.  However, I could ask it.  ChatGPT, \"tell me more about describe() in Python for summarizing dataframes.\"\n",
        "\n",
        "Then, I get a good explanation of describe(), although it does not mention the percentiles option.  One advantage of using Google or the documentation in addition of ChatGPT is that these sources may provide interesting information that does not directly answer our question.  Thus, we might not have known about the various arguments, such as percentiles, if we only used ChatGPT.  A second issue is that ChatGPT sometimes hallucinates (it makes up information).  In general, by examining multiple sources - Google, documentation, and ChatGPT - we can get more information."
      ]
    },
    {
      "cell_type": "markdown",
      "id": "1cede07d-03a8-4c36-b5ca-67619bbfd365",
      "metadata": {},
      "source": [
        "# 2. Weekly graph question"
      ]
    },
    {
      "cell_type": "markdown",
      "id": "4a71d462-12df-4b94-b34f-4d43e4d289d7",
      "metadata": {},
      "source": [
        "In Storytelling With Data, on page 1: examine the pie chart graph in the upper left corner of the graphs.  Please write a short explanation of the pros and cons of this graph.  What do you think of the choice of pie chart as a format?  The color scheme?  The legend?  The title?  How would you draw it differently if you were creating this graph?\n",
        "\n",
        "Please write a short explanation of the pros and cons of this graph:\n",
        "- The pie chart offers some clear advantages, such as its ability to present basic data in a straightforward, visually digestible format. It allows the audience to quickly understand proportions relative to the whole, making it easy to compare categories. However, pie charts have notable limitations. They become less effective when the dataset has too many categories or when the differences between values are minimal, as small changes in data are hard to distinguish. Additionally, pie charts don’t show trends over time or relationships between variables, which can limit their use for more complex analyses. According to Infogram, pie charts can also lead to accuracy issues: \"Comparing slice sizes, especially with many slices or small differences, can be difficult. Our brains struggle with angles compared to lengths (like in bar charts).\"\n",
        "\n",
        "What do you think of the choice of pie chart as a format? \n",
        "- The choice of a pie chart can be appropriate, but it depends on the context of the data. If the data has only a few categories and the goal is to provide a quick, high-level snapshot, a pie chart is a good option. For example, in a board meeting where the objective is to illustrate the distribution of employees—such as full-time, part-time, and contract workers—on a specific date, a pie chart would work well. However, if the goal is to track workforce changes over the past few years or months, a pie chart would not be the best choice, as it doesn't effectively represent trends or variations over time.\n",
        "\n",
        "\n",
        "The color scheme?  The legend?  The title?  How would you draw it differently if you were creating this graph?\n",
        "- Regarding the color scheme, I find it challenging to read due to the contrast and lack of complementary tones. A more harmonious color palette would improve both accessibility and visual appeal. The title, \"Survey Results,\" is too vague and doesn't provide the necessary context for the audience. It should reflect the specific focus of the survey, such as “Mood Survey Results” or even the question that was asked to give clarity and relevance. If I were redesigning the chart, I would adjust the color scheme to use more complementary colors, increase the contrast for better readability, and modify the title to make it more informative and descriptive.\n"
      ]
    },
    {
      "cell_type": "markdown",
      "id": "52a54048-d621-47b9-aa65-4b46d9c3bb4c",
      "metadata": {},
      "source": [
        "# 3. Homework - Bank Customers\n",
        "\n",
        "\n",
        "I will begin by creating a file for you to analyze.  I will show you all of the steps I used to create it.  Please run this code in order to create and save a file about bank customers.\n",
        "\n",
        "### The numbered problems are for you to solve."
      ]
    },
    {
      "cell_type": "code",
      "execution_count": 4,
      "id": "2950b5f1-9ab8-452f-b9d7-31ce82bbf698",
      "metadata": {
        "trusted": true
      },
      "outputs": [],
      "source": [
        "num_customers = 100\n",
        "np.random.seed(0)"
      ]
    },
    {
      "cell_type": "code",
      "execution_count": 5,
      "id": "95561d16-3aac-4537-841a-835272775080",
      "metadata": {
        "trusted": true
      },
      "outputs": [],
      "source": [
        "df_bank = pd.DataFrame(columns = [\"CustomerID\"])"
      ]
    },
    {
      "cell_type": "code",
      "execution_count": 6,
      "id": "3e84ff91-47c6-4788-b56b-1d63a2b06a33",
      "metadata": {
        "trusted": true
      },
      "outputs": [],
      "source": [
        "df_bank[\"CustomerID\"] = [str(x) for x in np.arange(num_customers)]"
      ]
    },
    {
      "cell_type": "code",
      "execution_count": 7,
      "id": "5983f3fb-8341-4bb0-92be-850dd712c853",
      "metadata": {
        "trusted": true
      },
      "outputs": [],
      "source": [
        "start = datetime(1950, 1, 1)\n",
        "end = datetime(2024, 1, 1)\n",
        "numdays = (end - start).days\n",
        "random_days = np.random.randint(0, numdays, size = num_customers)\n",
        "df_bank[\"BirthDate\"] = start + pd.to_timedelta(random_days, unit='D')\n",
        "df_bank[\"BirthDate\"] = df_bank[\"BirthDate\"].dt.strftime('%Y-%m-%d')"
      ]
    },
    {
      "cell_type": "code",
      "execution_count": 8,
      "id": "64adeb78-6b2c-46df-a4f0-8aee5fa75f83",
      "metadata": {
        "trusted": true
      },
      "outputs": [],
      "source": [
        "def make_ssn_string(num):\n",
        "    ssn_str = f'{num:09}'\n",
        "    return ssn_str[0:3] + \"-\" + ssn_str[3:5] + \"-\" + ssn_str[5:9]\n",
        "ssn_vector_func = np.vectorize(make_ssn_string)\n",
        "df_bank[\"SSN\"] = ssn_vector_func(np.random.randint(0, 999999999, size = num_customers))"
      ]
    },
    {
      "cell_type": "code",
      "execution_count": 9,
      "id": "0a8e00bb-2f97-4e11-a95f-138baf44206e",
      "metadata": {
        "trusted": true
      },
      "outputs": [],
      "source": [
        "df_bank[\"AccountID\"] = np.random.randint(0, num_customers, size = num_customers)"
      ]
    },
    {
      "cell_type": "code",
      "execution_count": 10,
      "id": "bc41db6c-9e4a-4efc-af0d-9f921bb77ec7",
      "metadata": {
        "trusted": true
      },
      "outputs": [],
      "source": [
        "random_days = np.random.randint(0, 365 * 80, size = num_customers)\n",
        "df_bank[\"AccountOpened\"] = (pd.to_datetime(df_bank[\"BirthDate\"]) + pd.to_timedelta(random_days, unit='D')).dt.strftime('%Y-%m-%d')"
      ]
    },
    {
      "cell_type": "code",
      "execution_count": 11,
      "id": "cd2ddf02-7ef2-485a-8d1a-1049b30630dd",
      "metadata": {
        "trusted": true
      },
      "outputs": [],
      "source": [
        "df_bank.loc[0, \"BirthDate\"] = \"1980\"\n",
        "df_bank.loc[1, \"BirthDate\"] = \"no date\""
      ]
    },
    {
      "cell_type": "code",
      "execution_count": 12,
      "id": "e5e52d8f-10b5-433f-bcfa-9d50232041e0",
      "metadata": {
        "trusted": true
      },
      "outputs": [],
      "source": [
        "df_bank.loc[2, \"AccountID\"] = np.nan"
      ]
    },
    {
      "cell_type": "code",
      "execution_count": 13,
      "id": "bdb0d5e7-1bcb-48f0-ab70-c7c3d4b8bfce",
      "metadata": {
        "trusted": true
      },
      "outputs": [],
      "source": [
        "df_bank[\"AccountType\"] = np.random.choice([\"checking\", \"savings\", \"cd\"], size = num_customers)"
      ]
    },
    {
      "cell_type": "markdown",
      "id": "314a2bef-d599-4599-b555-7a01c2cd3fb3",
      "metadata": {},
      "source": [
        "Load the bank_customers.csv file.  (There is no practical reason to save it, then load it - we're just demonstrating how this would be done.)\n",
        "I am calling the loaded df by a new name, df_bank_loaded, to make clear why it's not the same variable as the old df.  Of course, in actuality the two contain the exact same data!  But it's good to get in the habit of naming things carefully."
      ]
    },
    {
      "cell_type": "code",
      "execution_count": 14,
      "id": "15dea7e7-619d-4d3f-aa72-712f3da7d384",
      "metadata": {
        "trusted": true
      },
      "outputs": [],
      "source": [
        "df_bank.loc[num_customers - 1] = df.loc[0]\n",
        "df_bank.to_csv(\"bank_customers.csv\", index=False)"
      ]
    },
    {
      "cell_type": "code",
      "execution_count": 15,
      "id": "faf79336-ba67-446e-8220-e77534c4c949",
      "metadata": {
        "trusted": true
      },
      "outputs": [],
      "source": [
        "df_bank_loaded = pd.read_csv(\"bank_customers.csv\")"
      ]
    },
    {
      "cell_type": "markdown",
      "id": "380145bb-e051-418d-b3d2-ad032cab375b",
      "metadata": {},
      "source": [
        "1. Use describe() and info() to analyze the data.   Also, look at the first few rows."
      ]
    },
    {
      "cell_type": "markdown",
      "id": "8897936c-9af9-4344-bdb7-6290d8b34bce",
      "metadata": {},
      "source": [
        "Suggested Google Search or ChatGPT prompt: \"how do I use the describe function in python\"\n",
        "\n",
        "Example Google result: https://www.w3schools.com/python/pandas/ref_df_describe.asp"
      ]
    },
    {
      "cell_type": "code",
      "execution_count": 16,
      "id": "c1fef7bf-f140-4620-ae3b-55552598c0e7",
      "metadata": {
        "trusted": true
      },
      "outputs": [
        {
          "name": "stdout",
          "output_type": "stream",
          "text": [
            "<class 'pandas.core.frame.DataFrame'>\n",
            "RangeIndex: 100 entries, 0 to 99\n",
            "Data columns (total 6 columns):\n",
            " #   Column         Non-Null Count  Dtype  \n",
            "---  ------         --------------  -----  \n",
            " 0   CustomerID     99 non-null     float64\n",
            " 1   BirthDate      99 non-null     object \n",
            " 2   SSN            99 non-null     object \n",
            " 3   AccountID      98 non-null     float64\n",
            " 4   AccountOpened  99 non-null     object \n",
            " 5   AccountType    99 non-null     object \n",
            "dtypes: float64(2), object(4)\n",
            "memory usage: 3.2+ KB\n"
          ]
        }
      ],
      "source": [
        "#summary of data within df\n",
        "df_bank_loaded.info()"
      ]
    },
    {
      "cell_type": "code",
      "execution_count": 17,
      "id": "7afd2e89-eddb-4b47-986f-64be43c926f7",
      "metadata": {
        "trusted": true
      },
      "outputs": [
        {
          "data": {
            "text/html": [
              "<div>\n",
              "<style scoped>\n",
              "    .dataframe tbody tr th:only-of-type {\n",
              "        vertical-align: middle;\n",
              "    }\n",
              "\n",
              "    .dataframe tbody tr th {\n",
              "        vertical-align: top;\n",
              "    }\n",
              "\n",
              "    .dataframe thead th {\n",
              "        text-align: right;\n",
              "    }\n",
              "</style>\n",
              "<table border=\"1\" class=\"dataframe\">\n",
              "  <thead>\n",
              "    <tr style=\"text-align: right;\">\n",
              "      <th></th>\n",
              "      <th>CustomerID</th>\n",
              "      <th>BirthDate</th>\n",
              "      <th>SSN</th>\n",
              "      <th>AccountID</th>\n",
              "      <th>AccountOpened</th>\n",
              "      <th>AccountType</th>\n",
              "    </tr>\n",
              "  </thead>\n",
              "  <tbody>\n",
              "    <tr>\n",
              "      <th>count</th>\n",
              "      <td>99.000000</td>\n",
              "      <td>99</td>\n",
              "      <td>99</td>\n",
              "      <td>98.000000</td>\n",
              "      <td>99</td>\n",
              "      <td>99</td>\n",
              "    </tr>\n",
              "    <tr>\n",
              "      <th>unique</th>\n",
              "      <td>NaN</td>\n",
              "      <td>99</td>\n",
              "      <td>99</td>\n",
              "      <td>NaN</td>\n",
              "      <td>99</td>\n",
              "      <td>3</td>\n",
              "    </tr>\n",
              "    <tr>\n",
              "      <th>top</th>\n",
              "      <td>NaN</td>\n",
              "      <td>1980</td>\n",
              "      <td>530-47-1866</td>\n",
              "      <td>NaN</td>\n",
              "      <td>1959-12-06</td>\n",
              "      <td>savings</td>\n",
              "    </tr>\n",
              "    <tr>\n",
              "      <th>freq</th>\n",
              "      <td>NaN</td>\n",
              "      <td>1</td>\n",
              "      <td>1</td>\n",
              "      <td>NaN</td>\n",
              "      <td>1</td>\n",
              "      <td>35</td>\n",
              "    </tr>\n",
              "    <tr>\n",
              "      <th>mean</th>\n",
              "      <td>49.000000</td>\n",
              "      <td>NaN</td>\n",
              "      <td>NaN</td>\n",
              "      <td>46.551020</td>\n",
              "      <td>NaN</td>\n",
              "      <td>NaN</td>\n",
              "    </tr>\n",
              "    <tr>\n",
              "      <th>std</th>\n",
              "      <td>28.722813</td>\n",
              "      <td>NaN</td>\n",
              "      <td>NaN</td>\n",
              "      <td>27.679358</td>\n",
              "      <td>NaN</td>\n",
              "      <td>NaN</td>\n",
              "    </tr>\n",
              "    <tr>\n",
              "      <th>min</th>\n",
              "      <td>0.000000</td>\n",
              "      <td>NaN</td>\n",
              "      <td>NaN</td>\n",
              "      <td>0.000000</td>\n",
              "      <td>NaN</td>\n",
              "      <td>NaN</td>\n",
              "    </tr>\n",
              "    <tr>\n",
              "      <th>25%</th>\n",
              "      <td>24.500000</td>\n",
              "      <td>NaN</td>\n",
              "      <td>NaN</td>\n",
              "      <td>25.500000</td>\n",
              "      <td>NaN</td>\n",
              "      <td>NaN</td>\n",
              "    </tr>\n",
              "    <tr>\n",
              "      <th>50%</th>\n",
              "      <td>49.000000</td>\n",
              "      <td>NaN</td>\n",
              "      <td>NaN</td>\n",
              "      <td>42.000000</td>\n",
              "      <td>NaN</td>\n",
              "      <td>NaN</td>\n",
              "    </tr>\n",
              "    <tr>\n",
              "      <th>75%</th>\n",
              "      <td>73.500000</td>\n",
              "      <td>NaN</td>\n",
              "      <td>NaN</td>\n",
              "      <td>71.000000</td>\n",
              "      <td>NaN</td>\n",
              "      <td>NaN</td>\n",
              "    </tr>\n",
              "    <tr>\n",
              "      <th>max</th>\n",
              "      <td>98.000000</td>\n",
              "      <td>NaN</td>\n",
              "      <td>NaN</td>\n",
              "      <td>97.000000</td>\n",
              "      <td>NaN</td>\n",
              "      <td>NaN</td>\n",
              "    </tr>\n",
              "  </tbody>\n",
              "</table>\n",
              "</div>"
            ],
            "text/plain": [
              "        CustomerID BirthDate          SSN  AccountID AccountOpened AccountType\n",
              "count    99.000000        99           99  98.000000            99          99\n",
              "unique         NaN        99           99        NaN            99           3\n",
              "top            NaN      1980  530-47-1866        NaN    1959-12-06     savings\n",
              "freq           NaN         1            1        NaN             1          35\n",
              "mean     49.000000       NaN          NaN  46.551020           NaN         NaN\n",
              "std      28.722813       NaN          NaN  27.679358           NaN         NaN\n",
              "min       0.000000       NaN          NaN   0.000000           NaN         NaN\n",
              "25%      24.500000       NaN          NaN  25.500000           NaN         NaN\n",
              "50%      49.000000       NaN          NaN  42.000000           NaN         NaN\n",
              "75%      73.500000       NaN          NaN  71.000000           NaN         NaN\n",
              "max      98.000000       NaN          NaN  97.000000           NaN         NaN"
            ]
          },
          "execution_count": 17,
          "metadata": {},
          "output_type": "execute_result"
        }
      ],
      "source": [
        "#loaded general information in df\n",
        "df_bank_loaded.describe(include='all')"
      ]
    },
    {
      "cell_type": "code",
      "execution_count": 18,
      "id": "9b9a93f2-d27b-4ce3-8e8c-92f53d36a060",
      "metadata": {
        "trusted": true
      },
      "outputs": [
        {
          "data": {
            "text/html": [
              "<div>\n",
              "<style scoped>\n",
              "    .dataframe tbody tr th:only-of-type {\n",
              "        vertical-align: middle;\n",
              "    }\n",
              "\n",
              "    .dataframe tbody tr th {\n",
              "        vertical-align: top;\n",
              "    }\n",
              "\n",
              "    .dataframe thead th {\n",
              "        text-align: right;\n",
              "    }\n",
              "</style>\n",
              "<table border=\"1\" class=\"dataframe\">\n",
              "  <thead>\n",
              "    <tr style=\"text-align: right;\">\n",
              "      <th></th>\n",
              "      <th>CustomerID</th>\n",
              "      <th>BirthDate</th>\n",
              "      <th>SSN</th>\n",
              "      <th>AccountID</th>\n",
              "      <th>AccountOpened</th>\n",
              "      <th>AccountType</th>\n",
              "    </tr>\n",
              "  </thead>\n",
              "  <tbody>\n",
              "    <tr>\n",
              "      <th>0</th>\n",
              "      <td>0.0</td>\n",
              "      <td>1980</td>\n",
              "      <td>530-47-1866</td>\n",
              "      <td>4.0</td>\n",
              "      <td>1959-12-06</td>\n",
              "      <td>checking</td>\n",
              "    </tr>\n",
              "    <tr>\n",
              "      <th>1</th>\n",
              "      <td>1.0</td>\n",
              "      <td>no date</td>\n",
              "      <td>682-76-9175</td>\n",
              "      <td>67.0</td>\n",
              "      <td>2039-02-20</td>\n",
              "      <td>cd</td>\n",
              "    </tr>\n",
              "    <tr>\n",
              "      <th>2</th>\n",
              "      <td>2.0</td>\n",
              "      <td>1976-12-15</td>\n",
              "      <td>377-98-9839</td>\n",
              "      <td>NaN</td>\n",
              "      <td>2019-03-25</td>\n",
              "      <td>checking</td>\n",
              "    </tr>\n",
              "    <tr>\n",
              "      <th>3</th>\n",
              "      <td>3.0</td>\n",
              "      <td>2003-10-18</td>\n",
              "      <td>474-05-7613</td>\n",
              "      <td>86.0</td>\n",
              "      <td>2004-03-02</td>\n",
              "      <td>cd</td>\n",
              "    </tr>\n",
              "    <tr>\n",
              "      <th>4</th>\n",
              "      <td>4.0</td>\n",
              "      <td>1985-12-06</td>\n",
              "      <td>750-55-5509</td>\n",
              "      <td>77.0</td>\n",
              "      <td>2059-05-05</td>\n",
              "      <td>cd</td>\n",
              "    </tr>\n",
              "  </tbody>\n",
              "</table>\n",
              "</div>"
            ],
            "text/plain": [
              "   CustomerID   BirthDate          SSN  AccountID AccountOpened AccountType\n",
              "0         0.0        1980  530-47-1866        4.0    1959-12-06    checking\n",
              "1         1.0     no date  682-76-9175       67.0    2039-02-20          cd\n",
              "2         2.0  1976-12-15  377-98-9839        NaN    2019-03-25    checking\n",
              "3         3.0  2003-10-18  474-05-7613       86.0    2004-03-02          cd\n",
              "4         4.0  1985-12-06  750-55-5509       77.0    2059-05-05          cd"
            ]
          },
          "execution_count": 18,
          "metadata": {},
          "output_type": "execute_result"
        }
      ],
      "source": [
        "#loaded few few rows of df\n",
        "df_bank_loaded.head()"
      ]
    },
    {
      "cell_type": "code",
      "execution_count": 19,
      "id": "5fb74ed3-871e-41b6-99f5-da7eb3a37712",
      "metadata": {
        "trusted": true
      },
      "outputs": [
        {
          "data": {
            "text/html": [
              "<div>\n",
              "<style scoped>\n",
              "    .dataframe tbody tr th:only-of-type {\n",
              "        vertical-align: middle;\n",
              "    }\n",
              "\n",
              "    .dataframe tbody tr th {\n",
              "        vertical-align: top;\n",
              "    }\n",
              "\n",
              "    .dataframe thead th {\n",
              "        text-align: right;\n",
              "    }\n",
              "</style>\n",
              "<table border=\"1\" class=\"dataframe\">\n",
              "  <thead>\n",
              "    <tr style=\"text-align: right;\">\n",
              "      <th></th>\n",
              "      <th>CustomerID</th>\n",
              "      <th>BirthDate</th>\n",
              "      <th>SSN</th>\n",
              "      <th>AccountID</th>\n",
              "      <th>AccountOpened</th>\n",
              "      <th>AccountType</th>\n",
              "    </tr>\n",
              "  </thead>\n",
              "  <tbody>\n",
              "    <tr>\n",
              "      <th>0</th>\n",
              "      <td>0.0</td>\n",
              "      <td>1980</td>\n",
              "      <td>530-47-1866</td>\n",
              "      <td>4.0</td>\n",
              "      <td>1959-12-06</td>\n",
              "      <td>checking</td>\n",
              "    </tr>\n",
              "    <tr>\n",
              "      <th>1</th>\n",
              "      <td>1.0</td>\n",
              "      <td>no date</td>\n",
              "      <td>682-76-9175</td>\n",
              "      <td>67.0</td>\n",
              "      <td>2039-02-20</td>\n",
              "      <td>cd</td>\n",
              "    </tr>\n",
              "    <tr>\n",
              "      <th>2</th>\n",
              "      <td>2.0</td>\n",
              "      <td>1976-12-15</td>\n",
              "      <td>377-98-9839</td>\n",
              "      <td>NaN</td>\n",
              "      <td>2019-03-25</td>\n",
              "      <td>checking</td>\n",
              "    </tr>\n",
              "    <tr>\n",
              "      <th>3</th>\n",
              "      <td>3.0</td>\n",
              "      <td>2003-10-18</td>\n",
              "      <td>474-05-7613</td>\n",
              "      <td>86.0</td>\n",
              "      <td>2004-03-02</td>\n",
              "      <td>cd</td>\n",
              "    </tr>\n",
              "    <tr>\n",
              "      <th>4</th>\n",
              "      <td>4.0</td>\n",
              "      <td>1985-12-06</td>\n",
              "      <td>750-55-5509</td>\n",
              "      <td>77.0</td>\n",
              "      <td>2059-05-05</td>\n",
              "      <td>cd</td>\n",
              "    </tr>\n",
              "  </tbody>\n",
              "</table>\n",
              "</div>"
            ],
            "text/plain": [
              "   CustomerID   BirthDate          SSN  AccountID AccountOpened AccountType\n",
              "0         0.0        1980  530-47-1866        4.0    1959-12-06    checking\n",
              "1         1.0     no date  682-76-9175       67.0    2039-02-20          cd\n",
              "2         2.0  1976-12-15  377-98-9839        NaN    2019-03-25    checking\n",
              "3         3.0  2003-10-18  474-05-7613       86.0    2004-03-02          cd\n",
              "4         4.0  1985-12-06  750-55-5509       77.0    2059-05-05          cd"
            ]
          },
          "execution_count": 19,
          "metadata": {},
          "output_type": "execute_result"
        }
      ],
      "source": [
        "# The first few rows\n",
        "df_bank_loaded.iloc[0:5]"
      ]
    },
    {
      "cell_type": "markdown",
      "id": "e6062d1d-bf7f-4e81-8d19-60bd160c02d5",
      "metadata": {},
      "source": [
        "If you used describe() and info(), you now know that BirthDate and AccountOpened are strings.  But we want them to be dates.  Let's convert them to dates (or Timestamps in pandas).  When we try this, we get a ValueError."
      ]
    },
    {
      "cell_type": "code",
      "execution_count": 20,
      "id": "89e37c09-aee4-49f5-abc5-1e6ec9837b53",
      "metadata": {
        "trusted": true
      },
      "outputs": [
        {
          "name": "stdout",
          "output_type": "stream",
          "text": [
            "ValueError for BirthDate: time data \"1980\" doesn't match format \"%Y-%m-%d\", at position 0. You might want to try:\n",
            "    - passing `format` if your strings have a consistent format;\n",
            "    - passing `format='ISO8601'` if your strings are all ISO8601 but not necessarily in exactly the same format;\n",
            "    - passing `format='mixed'`, and the format will be inferred for each element individually. You might want to use `dayfirst` alongside this.\n"
          ]
        }
      ],
      "source": [
        "try:\n",
        "    df_bank_loaded[\"BirthDate\"] = pd.to_datetime(df_bank_loaded[\"BirthDate\"], format='%Y-%m-%d')\n",
        "    print(\"It worked!\")\n",
        "except ValueError as e:\n",
        "    print(f\"ValueError for BirthDate: {e}\")"
      ]
    },
    {
      "cell_type": "code",
      "execution_count": 21,
      "id": "dbcb584b-134b-475b-8fd4-70ca1ba7d03b",
      "metadata": {
        "trusted": true
      },
      "outputs": [
        {
          "name": "stdout",
          "output_type": "stream",
          "text": [
            "It worked!\n"
          ]
        }
      ],
      "source": [
        "try:\n",
        "    df_bank_loaded[\"AccountOpened\"] = pd.to_datetime(df_bank_loaded[\"AccountOpened\"], format='%Y-%m-%d')\n",
        "    print(\"It worked!\")\n",
        "except ValueError as e:\n",
        "    print(f\"ValueError for AccountOpened: {e}\")"
      ]
    },
    {
      "cell_type": "markdown",
      "id": "d64b1ccf-1001-40ab-b026-beae68b7fd19",
      "metadata": {},
      "source": [
        "The simple way to fix this is to remove the rows that have bad dates for BirthDate.  I Googled:\n",
        "\n",
        "\"How to remove rows from a dataframe that have poorly formatted dates using python\"\n",
        "\n",
        "https://stackoverflow.com/questions/21556744/pandas-remove-rows-whose-date-does-not-follow-specified-format\n",
        "\n",
        "This recommends that I verify that the date is a string of length 10, because YYYY-MM-DD has that length:\n",
        "\n",
        "df1\\[df1.BirthDate.str.len() !=10]"
      ]
    },
    {
      "cell_type": "code",
      "execution_count": 22,
      "id": "70ec53a1-2de5-48b5-9942-6857495e2b05",
      "metadata": {
        "trusted": true
      },
      "outputs": [
        {
          "data": {
            "text/plain": [
              "97"
            ]
          },
          "execution_count": 22,
          "metadata": {},
          "output_type": "execute_result"
        }
      ],
      "source": [
        "len(df_bank_loaded[df_bank_loaded.BirthDate.str.len() == 10])"
      ]
    },
    {
      "cell_type": "code",
      "execution_count": 23,
      "id": "a4edac07-185c-45ad-ba95-cca56bca0c7e",
      "metadata": {
        "trusted": true
      },
      "outputs": [
        {
          "data": {
            "text/html": [
              "<div>\n",
              "<style scoped>\n",
              "    .dataframe tbody tr th:only-of-type {\n",
              "        vertical-align: middle;\n",
              "    }\n",
              "\n",
              "    .dataframe tbody tr th {\n",
              "        vertical-align: top;\n",
              "    }\n",
              "\n",
              "    .dataframe thead th {\n",
              "        text-align: right;\n",
              "    }\n",
              "</style>\n",
              "<table border=\"1\" class=\"dataframe\">\n",
              "  <thead>\n",
              "    <tr style=\"text-align: right;\">\n",
              "      <th></th>\n",
              "      <th>CustomerID</th>\n",
              "      <th>BirthDate</th>\n",
              "      <th>SSN</th>\n",
              "      <th>AccountID</th>\n",
              "      <th>AccountOpened</th>\n",
              "      <th>AccountType</th>\n",
              "    </tr>\n",
              "  </thead>\n",
              "  <tbody>\n",
              "    <tr>\n",
              "      <th>0</th>\n",
              "      <td>0.0</td>\n",
              "      <td>1980</td>\n",
              "      <td>530-47-1866</td>\n",
              "      <td>4.0</td>\n",
              "      <td>1959-12-06</td>\n",
              "      <td>checking</td>\n",
              "    </tr>\n",
              "    <tr>\n",
              "      <th>1</th>\n",
              "      <td>1.0</td>\n",
              "      <td>no date</td>\n",
              "      <td>682-76-9175</td>\n",
              "      <td>67.0</td>\n",
              "      <td>2039-02-20</td>\n",
              "      <td>cd</td>\n",
              "    </tr>\n",
              "    <tr>\n",
              "      <th>99</th>\n",
              "      <td>NaN</td>\n",
              "      <td>NaN</td>\n",
              "      <td>NaN</td>\n",
              "      <td>NaN</td>\n",
              "      <td>NaT</td>\n",
              "      <td>NaN</td>\n",
              "    </tr>\n",
              "  </tbody>\n",
              "</table>\n",
              "</div>"
            ],
            "text/plain": [
              "    CustomerID BirthDate          SSN  AccountID AccountOpened AccountType\n",
              "0          0.0      1980  530-47-1866        4.0    1959-12-06    checking\n",
              "1          1.0   no date  682-76-9175       67.0    2039-02-20          cd\n",
              "99         NaN       NaN          NaN        NaN           NaT         NaN"
            ]
          },
          "execution_count": 23,
          "metadata": {},
          "output_type": "execute_result"
        }
      ],
      "source": [
        "df_bank_loaded[df_bank_loaded.BirthDate.str.len() != 10].iloc[0:5]"
      ]
    },
    {
      "cell_type": "markdown",
      "id": "2503d01f-0168-43f9-a271-6f529e47886f",
      "metadata": {},
      "source": [
        "Now we can make this permanent, creating a new DataFrame df_bank_datefix.\n",
        "I am making a copy in order to ensure that df_bank_datefix is a new DataFrame rather than being a slice of the old one."
      ]
    },
    {
      "cell_type": "code",
      "execution_count": 24,
      "id": "d1bed857-0d03-4091-9838-fd75227c63e3",
      "metadata": {
        "trusted": true
      },
      "outputs": [],
      "source": [
        "df_bank_datefix = df_bank_loaded[df_bank_loaded.BirthDate.str.len() == 10].copy()"
      ]
    },
    {
      "cell_type": "markdown",
      "id": "838e568e-a333-4d18-ba8d-84c2926191e8",
      "metadata": {},
      "source": [
        "Test again:"
      ]
    },
    {
      "cell_type": "code",
      "execution_count": 25,
      "id": "d8655d6a-0a79-42c4-891a-cb421d664ca0",
      "metadata": {
        "trusted": true
      },
      "outputs": [
        {
          "name": "stdout",
          "output_type": "stream",
          "text": [
            "It worked!\n"
          ]
        }
      ],
      "source": [
        "try:\n",
        "    df_bank_datefix[\"BirthDate\"] = pd.to_datetime(df_bank_datefix[\"BirthDate\"], format='%Y-%m-%d')\n",
        "    print(\"It worked!\")\n",
        "except ValueError as e:\n",
        "    print(f\"ValueError: {e}\")"
      ]
    },
    {
      "cell_type": "markdown",
      "id": "fa88b739-9481-46fd-a8bd-996ed0e0bc2f",
      "metadata": {},
      "source": [
        "2. To check that it worked, use a summary function that will tell you if the BirthDate field is now a datetime type"
      ]
    },
    {
      "cell_type": "code",
      "execution_count": 26,
      "id": "090c3a88-3e11-4c56-bbfc-d53ce2cc845b",
      "metadata": {
        "trusted": true
      },
      "outputs": [
        {
          "data": {
            "text/html": [
              "<div>\n",
              "<style scoped>\n",
              "    .dataframe tbody tr th:only-of-type {\n",
              "        vertical-align: middle;\n",
              "    }\n",
              "\n",
              "    .dataframe tbody tr th {\n",
              "        vertical-align: top;\n",
              "    }\n",
              "\n",
              "    .dataframe thead th {\n",
              "        text-align: right;\n",
              "    }\n",
              "</style>\n",
              "<table border=\"1\" class=\"dataframe\">\n",
              "  <thead>\n",
              "    <tr style=\"text-align: right;\">\n",
              "      <th></th>\n",
              "      <th>CustomerID</th>\n",
              "      <th>BirthDate</th>\n",
              "      <th>SSN</th>\n",
              "      <th>AccountID</th>\n",
              "      <th>AccountOpened</th>\n",
              "      <th>AccountType</th>\n",
              "    </tr>\n",
              "  </thead>\n",
              "  <tbody>\n",
              "    <tr>\n",
              "      <th>0</th>\n",
              "      <td>0.0</td>\n",
              "      <td>1980</td>\n",
              "      <td>530-47-1866</td>\n",
              "      <td>4.0</td>\n",
              "      <td>1959-12-06</td>\n",
              "      <td>checking</td>\n",
              "    </tr>\n",
              "    <tr>\n",
              "      <th>1</th>\n",
              "      <td>1.0</td>\n",
              "      <td>no date</td>\n",
              "      <td>682-76-9175</td>\n",
              "      <td>67.0</td>\n",
              "      <td>2039-02-20</td>\n",
              "      <td>cd</td>\n",
              "    </tr>\n",
              "    <tr>\n",
              "      <th>99</th>\n",
              "      <td>NaN</td>\n",
              "      <td>NaN</td>\n",
              "      <td>NaN</td>\n",
              "      <td>NaN</td>\n",
              "      <td>NaT</td>\n",
              "      <td>NaN</td>\n",
              "    </tr>\n",
              "  </tbody>\n",
              "</table>\n",
              "</div>"
            ],
            "text/plain": [
              "    CustomerID BirthDate          SSN  AccountID AccountOpened AccountType\n",
              "0          0.0      1980  530-47-1866        4.0    1959-12-06    checking\n",
              "1          1.0   no date  682-76-9175       67.0    2039-02-20          cd\n",
              "99         NaN       NaN          NaN        NaN           NaT         NaN"
            ]
          },
          "execution_count": 26,
          "metadata": {},
          "output_type": "execute_result"
        }
      ],
      "source": [
        "df_bank_loaded[df_bank_loaded.BirthDate.str.len() != 10].iloc[0:5]"
      ]
    },
    {
      "cell_type": "code",
      "execution_count": 27,
      "id": "c238123a-3201-47f9-a201-526551b4328e",
      "metadata": {
        "trusted": true
      },
      "outputs": [
        {
          "data": {
            "text/html": [
              "<div>\n",
              "<style scoped>\n",
              "    .dataframe tbody tr th:only-of-type {\n",
              "        vertical-align: middle;\n",
              "    }\n",
              "\n",
              "    .dataframe tbody tr th {\n",
              "        vertical-align: top;\n",
              "    }\n",
              "\n",
              "    .dataframe thead th {\n",
              "        text-align: right;\n",
              "    }\n",
              "</style>\n",
              "<table border=\"1\" class=\"dataframe\">\n",
              "  <thead>\n",
              "    <tr style=\"text-align: right;\">\n",
              "      <th></th>\n",
              "      <th>CustomerID</th>\n",
              "      <th>BirthDate</th>\n",
              "      <th>SSN</th>\n",
              "      <th>AccountID</th>\n",
              "      <th>AccountOpened</th>\n",
              "      <th>AccountType</th>\n",
              "    </tr>\n",
              "  </thead>\n",
              "  <tbody>\n",
              "    <tr>\n",
              "      <th>count</th>\n",
              "      <td>99.000000</td>\n",
              "      <td>99</td>\n",
              "      <td>99</td>\n",
              "      <td>98.000000</td>\n",
              "      <td>99</td>\n",
              "      <td>99</td>\n",
              "    </tr>\n",
              "    <tr>\n",
              "      <th>unique</th>\n",
              "      <td>NaN</td>\n",
              "      <td>99</td>\n",
              "      <td>99</td>\n",
              "      <td>NaN</td>\n",
              "      <td>NaN</td>\n",
              "      <td>3</td>\n",
              "    </tr>\n",
              "    <tr>\n",
              "      <th>top</th>\n",
              "      <td>NaN</td>\n",
              "      <td>1980</td>\n",
              "      <td>530-47-1866</td>\n",
              "      <td>NaN</td>\n",
              "      <td>NaN</td>\n",
              "      <td>savings</td>\n",
              "    </tr>\n",
              "    <tr>\n",
              "      <th>freq</th>\n",
              "      <td>NaN</td>\n",
              "      <td>1</td>\n",
              "      <td>1</td>\n",
              "      <td>NaN</td>\n",
              "      <td>NaN</td>\n",
              "      <td>35</td>\n",
              "    </tr>\n",
              "    <tr>\n",
              "      <th>mean</th>\n",
              "      <td>49.000000</td>\n",
              "      <td>NaN</td>\n",
              "      <td>NaN</td>\n",
              "      <td>46.551020</td>\n",
              "      <td>2033-03-27 14:18:10.909090816</td>\n",
              "      <td>NaN</td>\n",
              "    </tr>\n",
              "    <tr>\n",
              "      <th>min</th>\n",
              "      <td>0.000000</td>\n",
              "      <td>NaN</td>\n",
              "      <td>NaN</td>\n",
              "      <td>0.000000</td>\n",
              "      <td>1953-05-05 00:00:00</td>\n",
              "      <td>NaN</td>\n",
              "    </tr>\n",
              "    <tr>\n",
              "      <th>25%</th>\n",
              "      <td>24.500000</td>\n",
              "      <td>NaN</td>\n",
              "      <td>NaN</td>\n",
              "      <td>25.500000</td>\n",
              "      <td>2011-04-11 00:00:00</td>\n",
              "      <td>NaN</td>\n",
              "    </tr>\n",
              "    <tr>\n",
              "      <th>50%</th>\n",
              "      <td>49.000000</td>\n",
              "      <td>NaN</td>\n",
              "      <td>NaN</td>\n",
              "      <td>42.000000</td>\n",
              "      <td>2032-09-02 00:00:00</td>\n",
              "      <td>NaN</td>\n",
              "    </tr>\n",
              "    <tr>\n",
              "      <th>75%</th>\n",
              "      <td>73.500000</td>\n",
              "      <td>NaN</td>\n",
              "      <td>NaN</td>\n",
              "      <td>71.000000</td>\n",
              "      <td>2061-03-15 12:00:00</td>\n",
              "      <td>NaN</td>\n",
              "    </tr>\n",
              "    <tr>\n",
              "      <th>max</th>\n",
              "      <td>98.000000</td>\n",
              "      <td>NaN</td>\n",
              "      <td>NaN</td>\n",
              "      <td>97.000000</td>\n",
              "      <td>2095-12-10 00:00:00</td>\n",
              "      <td>NaN</td>\n",
              "    </tr>\n",
              "    <tr>\n",
              "      <th>std</th>\n",
              "      <td>28.722813</td>\n",
              "      <td>NaN</td>\n",
              "      <td>NaN</td>\n",
              "      <td>27.679358</td>\n",
              "      <td>NaN</td>\n",
              "      <td>NaN</td>\n",
              "    </tr>\n",
              "  </tbody>\n",
              "</table>\n",
              "</div>"
            ],
            "text/plain": [
              "        CustomerID BirthDate          SSN  AccountID  \\\n",
              "count    99.000000        99           99  98.000000   \n",
              "unique         NaN        99           99        NaN   \n",
              "top            NaN      1980  530-47-1866        NaN   \n",
              "freq           NaN         1            1        NaN   \n",
              "mean     49.000000       NaN          NaN  46.551020   \n",
              "min       0.000000       NaN          NaN   0.000000   \n",
              "25%      24.500000       NaN          NaN  25.500000   \n",
              "50%      49.000000       NaN          NaN  42.000000   \n",
              "75%      73.500000       NaN          NaN  71.000000   \n",
              "max      98.000000       NaN          NaN  97.000000   \n",
              "std      28.722813       NaN          NaN  27.679358   \n",
              "\n",
              "                        AccountOpened AccountType  \n",
              "count                              99          99  \n",
              "unique                            NaN           3  \n",
              "top                               NaN     savings  \n",
              "freq                              NaN          35  \n",
              "mean    2033-03-27 14:18:10.909090816         NaN  \n",
              "min               1953-05-05 00:00:00         NaN  \n",
              "25%               2011-04-11 00:00:00         NaN  \n",
              "50%               2032-09-02 00:00:00         NaN  \n",
              "75%               2061-03-15 12:00:00         NaN  \n",
              "max               2095-12-10 00:00:00         NaN  \n",
              "std                               NaN         NaN  "
            ]
          },
          "execution_count": 27,
          "metadata": {},
          "output_type": "execute_result"
        }
      ],
      "source": [
        "df_bank_loaded.describe(include='all')"
      ]
    },
    {
      "cell_type": "code",
      "execution_count": 28,
      "id": "ce550219-274c-4e3c-953d-cdf920a37990",
      "metadata": {
        "trusted": true
      },
      "outputs": [
        {
          "data": {
            "text/plain": [
              "CustomerID              float64\n",
              "BirthDate                object\n",
              "SSN                      object\n",
              "AccountID               float64\n",
              "AccountOpened    datetime64[ns]\n",
              "AccountType              object\n",
              "dtype: object"
            ]
          },
          "execution_count": 28,
          "metadata": {},
          "output_type": "execute_result"
        }
      ],
      "source": [
        "df_bank_loaded.dtypes"
      ]
    },
    {
      "cell_type": "markdown",
      "id": "ed7ac0d0-be31-4c50-838d-f104463a8114",
      "metadata": {},
      "source": [
        "3. Check whether there are any null values in the DataFrame.  If so, remove those rows or (if you prefer) fill in the value with an appropriate number.\n",
        "\n",
        "First try at a Google search or ChatGPT prompt: \"how do I find out if there are any null values in a pandas DataFrame?\"\n",
        "\n",
        "This page gives an answer.  Unfortunately, it took my request too literally: it tells me only if there are any, and not which rows have them.  On reflection, that's not really what I want - I think I asked the wrong question.  I want to see the rows, not just _whether_ there are any.\n",
        "\n",
        "https://stackoverflow.com/questions/29530232/how-to-check-if-any-value-is-nan-in-a-pandas-dataframe\n",
        "\n",
        "ChatGPT likewise doesn't give the answer I want - because I asked the wrong question.\n",
        "\n",
        "Next try at a Google search or ChatGPT prompt: \"how do I check which rows have null values in a pandas DataFrame?\"\n",
        "\n",
        "This page gives an answer:\n",
        "\n",
        "https://stackoverflow.com/questions/36226083/how-to-find-which-columns-contain-any-nan-value-in-pandas-dataframe\n",
        "\n",
        "ChatGPT also gives a good answer.  I recommend looking at both of them!\n",
        "\n",
        "Now try it on your own:\n",
        "\n",
        "Suggested Google search or ChatGPT prompt: \"how do I remove rows with null values in a pandas DataFrame?\"\n",
        "\n",
        "Suggested Google search or ChatGPT prompt: \"how do I fill in null values in a pandas DataFrame?\""
      ]
    },
    {
      "cell_type": "markdown",
      "id": "774b73eb-d87d-4ecb-aaba-5d68a747384e",
      "metadata": {},
      "source": [
        "<b>Answer to: First try at a Google search or ChatGPT prompt: \"how do I find out if there are any null values in a pandas DataFrame?\" </b>\n",
        "\n",
        "Google search provided the following AI overview:\n",
        "\n",
        "Here's how to check for null values in a Pandas DataFrame: [1, 2]  \n",
        "\n",
        "1. Use isnull(): \n",
        "\t• The isnull() method returns a DataFrame of boolean values, where True indicates a null value and False indicates a non-null value. \n",
        "\n",
        "    import pandas as pd\n",
        "    \n",
        "    data = {'col1': [1, 2, None, 4], 'col2': [5, None, 7, 8]}\n",
        "    df = pd.DataFrame(data)\n",
        "    \n",
        "    null_values = df.isnull()\n",
        "    print(null_values)\n",
        "\n",
        "1. Check for any null values: \n",
        "\t• To check if there are any null values in the entire DataFrame, use any() method. \n",
        "\n",
        "    has_null = df.isnull().any().any()\n",
        "    print(has_null)\n",
        "\n",
        "1. Count null values: \n",
        "\t• To count the number of null values in each column, use sum() method. [2]  \n",
        "\n",
        "    null_counts = df.isnull().sum()\n",
        "    print(null_counts)\n",
        "\n",
        "1. Total number of null values: \n",
        "\t• To get the total number of null values in the entire DataFrame. \n",
        "\n",
        "    total_null_count = df.isnull().sum().sum()\n",
        "    print(total_null_count)\n",
        "\n",
        "This output aligned resulted in the findings identified in the original answer  -- \"it tells me only if there are any, and not which rows have them.\""
      ]
    },
    {
      "cell_type": "code",
      "execution_count": 29,
      "id": "a8ffaf2e-a8b2-42a2-ad09-e014431fccea",
      "metadata": {
        "trusted": true
      },
      "outputs": [
        {
          "name": "stdout",
          "output_type": "stream",
          "text": [
            "CustomerID       True\n",
            "BirthDate        True\n",
            "SSN              True\n",
            "AccountID        True\n",
            "AccountOpened    True\n",
            "AccountType      True\n",
            "dtype: bool\n"
          ]
        }
      ],
      "source": [
        "nulls_in_df = df_bank_loaded.isnull().any()\n",
        "print(nulls_in_df)"
      ]
    },
    {
      "cell_type": "code",
      "execution_count": 30,
      "id": "a4200fa7-7e89-4ca6-9b9f-ee49d8c4ad8d",
      "metadata": {
        "trusted": true
      },
      "outputs": [
        {
          "name": "stdout",
          "output_type": "stream",
          "text": [
            "CustomerID       True\n",
            "BirthDate        True\n",
            "SSN              True\n",
            "AccountID        True\n",
            "AccountOpened    True\n",
            "AccountType      True\n",
            "dtype: bool\n"
          ]
        }
      ],
      "source": [
        "not_null = df_bank_loaded.notnull().any()\n",
        "print(not_null)"
      ]
    },
    {
      "cell_type": "markdown",
      "id": "0ae1b5f7-13d2-487c-84ac-f138660ba385",
      "metadata": {},
      "source": [
        "<b> Answer to: Next try at a Google search or ChatGPT prompt: \"how do I check which rows have null values in a pandas DataFrame?\"</b>\n",
        "\n",
        "Google provided an AI overview of the following: \n",
        "\n",
        "Here's how to check which rows have null values in a Pandas DataFrame: \n",
        "\n",
        "1. Use isnull() to create a boolean mask: \n",
        "\n",
        "The isnull() method identifies null values (NaN) and returns a DataFrame of the same shape, with True where values are null and False otherwise. \n",
        "\n",
        "    data = {'col1': [1, 2, np.nan, 4], 'col2': [5, np.nan, 7, 8], 'col3': [np.nan, 10, 11, 12]}\n",
        "    df = pd.DataFrame(data)\n",
        "    null_mask = df.isnull()\n",
        "    print(null_mask)\n",
        "\n",
        "2. Use any(axis=1) to find rows with any null values: \n",
        "\n",
        "Apply the any() method along the rows (axis=1) of the boolean mask. This returns a boolean Series indicating whether each row contains at least one null value. \n",
        "\n",
        "    rows_with_null = null_mask.any(axis=1)\n",
        "    print(rows_with_null)\n",
        "\n",
        "3. Select rows with null values: \n",
        "\n",
        "Use boolean indexing with the rows_with_null Series to select the rows that contain null values. \n",
        "\n",
        "       df_with_nulls = df[rows_with_null]\n",
        "       print(df_with_nulls)\n",
        "\n",
        "4. Alternative way to select rows with null values: \n",
        "\n",
        "You can combine the isnull() and any() methods directly within the boolean indexing for a more concise approach. \n",
        "\n",
        "    df_with_nulls_alt = df[df.isnull().any(axis=1)]\n",
        "    print(df_with_nulls_alt)\n",
        "\n",
        "I used the example from #1/#2 above and updated the code to reflect the data set we are using. The code output is below. "
      ]
    },
    {
      "cell_type": "code",
      "execution_count": 31,
      "id": "6a1439dc-8de0-4aed-a881-d55ae7b8cea3",
      "metadata": {
        "trusted": true
      },
      "outputs": [
        {
          "name": "stdout",
          "output_type": "stream",
          "text": [
            "0     False\n",
            "1     False\n",
            "2      True\n",
            "3     False\n",
            "4     False\n",
            "      ...  \n",
            "95    False\n",
            "96    False\n",
            "97    False\n",
            "98    False\n",
            "99     True\n",
            "Length: 100, dtype: bool\n"
          ]
        }
      ],
      "source": [
        "df = pd.DataFrame(df_bank_loaded)\n",
        "\n",
        "#create null mask\n",
        "null_mask = df.isnull()\n",
        "\n",
        "#identify rows with any null values\n",
        "rows_with_null = null_mask.any(axis=1)\n",
        "\n",
        "print(rows_with_null)"
      ]
    },
    {
      "cell_type": "markdown",
      "id": "5b1da7cc-7178-459a-ba2a-8992f1770cb5",
      "metadata": {},
      "source": [
        "<b> Answer to: Suggested Google search or ChatGPT prompt: \"how do I remove rows with null values in a pandas DataFrame?\"</b> \n",
        "\n",
        "Stackoverflow: https://stackoverflow.com/questions/44548721/remove-row-with-null-value-from-pandas-data-frame\n",
        "\n",
        "Google AI overview: \n",
        "Here is how to remove rows with null values in a Pandas DataFrame: \n",
        "\n",
        "• Using dropna(): \n",
        "\n",
        "The dropna() method removes rows containing null values (NaN). \n",
        "By default, it removes any row with at least one null value. \n",
        "\t\n",
        "    • To remove rows with any null value: \n",
        "\n",
        "    df = pd.DataFrame({'A': [1, 2, None, 4], 'B': [5, None, 7, 8]})\n",
        "    df_cleaned = df.dropna()\n",
        "    print(df_cleaned)\n",
        "\n",
        "• To remove rows where all values are null: \n",
        "\n",
        "    df_cleaned_all = df.dropna(how='all')\n",
        "    print(df_cleaned_all)\n",
        "\n",
        "• To remove rows with null values in specific columns: \n",
        "\n",
        "     df_cleaned_subset = df.dropna(subset=['A'])\n",
        "     print(df_cleaned_subset)\n",
        "\n",
        "• Inplace modification: By default, dropna() returns a new DataFrame. To modify the original DataFrame, use inplace=True: \n",
        "\n",
        "    df.dropna(inplace=True)\n",
        "\n",
        "The first result from Google AI created a dictionary with keys, which we reviewed last semester, but I don't think that is the most straight forward approach. Due to this, I used the second one, which is more similar to what the professor mentioned in class. The code output is below."
      ]
    },
    {
      "cell_type": "code",
      "execution_count": 32,
      "id": "0dde448c-8d32-4bd0-a241-51b02a639817",
      "metadata": {
        "trusted": true
      },
      "outputs": [
        {
          "name": "stdout",
          "output_type": "stream",
          "text": [
            "    CustomerID   BirthDate          SSN  AccountID AccountOpened AccountType\n",
            "0          0.0        1980  530-47-1866        4.0    1959-12-06    checking\n",
            "1          1.0     no date  682-76-9175       67.0    2039-02-20          cd\n",
            "3          3.0  2003-10-18  474-05-7613       86.0    2004-03-02          cd\n",
            "4          4.0  1985-12-06  750-55-5509       77.0    2059-05-05          cd\n",
            "5          5.0  2008-02-29  671-43-0485       75.0    2025-05-03    checking\n",
            "..         ...         ...          ...        ...           ...         ...\n",
            "94        94.0  1969-03-14  958-12-8308        5.0    2037-04-03     savings\n",
            "95        95.0  1975-09-23  607-97-1651       36.0    2011-07-24    checking\n",
            "96        96.0  1989-03-09  870-80-0364        0.0    2054-11-01          cd\n",
            "97        97.0  1960-09-23  773-33-2797       75.0    1993-09-16          cd\n",
            "98        98.0  1975-08-17  846-64-7054       34.0    2032-12-25     savings\n",
            "\n",
            "[98 rows x 6 columns]\n"
          ]
        }
      ],
      "source": [
        "df_cleaned = df_bank_loaded.dropna()\n",
        "print(df_cleaned)"
      ]
    },
    {
      "cell_type": "markdown",
      "id": "cdeca736-517c-41af-99fe-6241d1204a5d",
      "metadata": {},
      "source": [
        "<b> Answer to: Suggested Google search or ChatGPT prompt: \"how do I fill in null values in a pandas DataFrame?\"</b> \n",
        "\n",
        "A Google search resulted in the following websites, which were helpful:\n",
        "\n",
        "1. https://www.geeksforgeeks.org/python-pandas-dataframe-fillna-to-replace-null-values-in-dataframe/\n",
        "\n",
        "2. https://stackoverflow.com/questions/65470708/best-way-to-fill-null-values-with-conditions-using-pandas\n",
        "\n",
        "3. https://pandas.pydata.org/docs/reference/api/pandas.DataFrame.fillna.html\n",
        "\n",
        "All three websites referenced using fillna. I used this approach with our data, replaced null values with 0 (since 0 is most similar to null) and the code output is below."
      ]
    },
    {
      "cell_type": "code",
      "execution_count": 33,
      "id": "9a1a80df-730c-4429-b529-7615e9da4d34",
      "metadata": {
        "trusted": true
      },
      "outputs": [
        {
          "name": "stdout",
          "output_type": "stream",
          "text": [
            "    CustomerID   BirthDate          SSN  AccountID        AccountOpened  \\\n",
            "0          0.0        1980  530-47-1866        4.0  1959-12-06 00:00:00   \n",
            "1          1.0     no date  682-76-9175       67.0  2039-02-20 00:00:00   \n",
            "2          2.0  1976-12-15  377-98-9839        0.0  2019-03-25 00:00:00   \n",
            "3          3.0  2003-10-18  474-05-7613       86.0  2004-03-02 00:00:00   \n",
            "4          4.0  1985-12-06  750-55-5509       77.0  2059-05-05 00:00:00   \n",
            "..         ...         ...          ...        ...                  ...   \n",
            "95        95.0  1975-09-23  607-97-1651       36.0  2011-07-24 00:00:00   \n",
            "96        96.0  1989-03-09  870-80-0364        0.0  2054-11-01 00:00:00   \n",
            "97        97.0  1960-09-23  773-33-2797       75.0  1993-09-16 00:00:00   \n",
            "98        98.0  1975-08-17  846-64-7054       34.0  2032-12-25 00:00:00   \n",
            "99         0.0           0            0        0.0                    0   \n",
            "\n",
            "   AccountType  \n",
            "0     checking  \n",
            "1           cd  \n",
            "2     checking  \n",
            "3           cd  \n",
            "4           cd  \n",
            "..         ...  \n",
            "95    checking  \n",
            "96          cd  \n",
            "97          cd  \n",
            "98     savings  \n",
            "99           0  \n",
            "\n",
            "[100 rows x 6 columns]\n"
          ]
        }
      ],
      "source": [
        "df_filled_0 = df_bank_loaded.fillna(0)\n",
        "print(df_filled_0)"
      ]
    },
    {
      "cell_type": "markdown",
      "id": "54ca88fe-0b67-473e-965f-7e5da13f2a02",
      "metadata": {},
      "source": [
        "4. Find out if there are any duplicate rows (two rows exactly the same).  List their row numbers.  Then remove the duplicates"
      ]
    },
    {
      "cell_type": "markdown",
      "id": "5abf0983-4861-486b-bfc0-942b6772c866",
      "metadata": {},
      "source": [
        "Suggested Google search or ChatGPT prompt: \"how can I find out if there are any duplicate rows in a DataFrame using Python\"\n",
        "\n",
        "Again, Google provides me with a page that addresses the question:\n",
        "\n",
        "https://saturncloud.io/blog/how-to-find-all-duplicate-rows-in-a-pandas-dataframe/\n",
        "\n",
        "To remove the duplicates, do this search: \"how can I remove the duplicate rows in a DataFrame using Python\"\n",
        "\n",
        "This leads me to the following documentation.\n",
        "\n",
        "https://pandas.pydata.org/docs/reference/api/pandas.DataFrame.drop_duplicates.html"
      ]
    },
    {
      "cell_type": "markdown",
      "id": "0a8a8144-8cc5-42b4-91d8-f70c84f1e72f",
      "metadata": {},
      "source": [
        "<b>Answer to: Suggested Google search or ChatGPT prompt: \"how can I find out if there are any duplicate rows in a DataFrame using Python\"</b>\n",
        "\n",
        "https://saturncloud.io/blog/how-to-find-all-duplicate-rows-in-a-pandas-dataframe/\n",
        "\n",
        "This website provides the following example (comments are italicized for easier reading):\n",
        "\n",
        "<i> create a sample dataframe</i>\n",
        "\n",
        "df = pd.DataFrame({\n",
        "    'Name': ['John', 'John', 'Mary', 'Peter', 'John'],\n",
        "    'Age': [25, 25, 30, 35, 25],\n",
        "    'City': ['New York', 'Chicago', 'Los Angeles', 'Houston', 'Chicago']\n",
        "})\n",
        "\n",
        "<i> find duplicate rows</i>\n",
        "\n",
        "duplicate_rows = df.duplicated()\n",
        "\n",
        "<i> print duplicate rows </i>\n",
        "\n",
        "print(duplicate_rows)\n",
        "\n",
        "I implented this code below:"
      ]
    },
    {
      "cell_type": "code",
      "execution_count": 34,
      "id": "acd1cc2f-2879-4839-8ac7-9b2bc306dfb5",
      "metadata": {
        "trusted": true
      },
      "outputs": [
        {
          "name": "stdout",
          "output_type": "stream",
          "text": [
            "    CustomerID   BirthDate          SSN  AccountID AccountOpened AccountType\n",
            "0          0.0        1980  530-47-1866        4.0    1959-12-06    checking\n",
            "1          1.0     no date  682-76-9175       67.0    2039-02-20          cd\n",
            "2          2.0  1976-12-15  377-98-9839        NaN    2019-03-25    checking\n",
            "3          3.0  2003-10-18  474-05-7613       86.0    2004-03-02          cd\n",
            "4          4.0  1985-12-06  750-55-5509       77.0    2059-05-05          cd\n",
            "..         ...         ...          ...        ...           ...         ...\n",
            "95        95.0  1975-09-23  607-97-1651       36.0    2011-07-24    checking\n",
            "96        96.0  1989-03-09  870-80-0364        0.0    2054-11-01          cd\n",
            "97        97.0  1960-09-23  773-33-2797       75.0    1993-09-16          cd\n",
            "98        98.0  1975-08-17  846-64-7054       34.0    2032-12-25     savings\n",
            "99         NaN         NaN          NaN        NaN           NaT         NaN\n",
            "\n",
            "[100 rows x 6 columns]\n"
          ]
        }
      ],
      "source": [
        "duplicate_rows = df_bank_loaded\n",
        "print(duplicate_rows)"
      ]
    },
    {
      "cell_type": "markdown",
      "id": "0d1bdbe7-b6cf-482b-823b-1675d2d21445",
      "metadata": {},
      "source": [
        "<b>Answer to: To remove the duplicates, do this search: \"how can I remove the duplicate rows in a DataFrame using Python\" <b>\n",
        "\n",
        "https://pandas.pydata.org/docs/reference/api/pandas.DataFrame.drop_duplicates.html\n",
        "\n",
        "This website provides the following example (comments are italicized for easier reading):\n",
        "\n",
        "<i>By default, it removes duplicate rows based on all columns. </i>\n",
        "\n",
        "df.drop_duplicates()\n",
        "\n",
        "I implemented this code below:"
      ]
    },
    {
      "cell_type": "code",
      "execution_count": 35,
      "id": "92f6648a-125f-4c2c-a52c-a2ca0f82165f",
      "metadata": {
        "trusted": true
      },
      "outputs": [
        {
          "name": "stdout",
          "output_type": "stream",
          "text": [
            "    CustomerID   BirthDate          SSN  AccountID AccountOpened AccountType\n",
            "0          0.0        1980  530-47-1866        4.0    1959-12-06    checking\n",
            "1          1.0     no date  682-76-9175       67.0    2039-02-20          cd\n",
            "2          2.0  1976-12-15  377-98-9839        NaN    2019-03-25    checking\n",
            "3          3.0  2003-10-18  474-05-7613       86.0    2004-03-02          cd\n",
            "4          4.0  1985-12-06  750-55-5509       77.0    2059-05-05          cd\n",
            "..         ...         ...          ...        ...           ...         ...\n",
            "95        95.0  1975-09-23  607-97-1651       36.0    2011-07-24    checking\n",
            "96        96.0  1989-03-09  870-80-0364        0.0    2054-11-01          cd\n",
            "97        97.0  1960-09-23  773-33-2797       75.0    1993-09-16          cd\n",
            "98        98.0  1975-08-17  846-64-7054       34.0    2032-12-25     savings\n",
            "99         NaN         NaN          NaN        NaN           NaT         NaN\n",
            "\n",
            "[100 rows x 6 columns]\n"
          ]
        }
      ],
      "source": [
        "#version with variable assigned \n",
        "df_cleaned_no_dups = df_bank_loaded.drop_duplicates()\n",
        "print(df_cleaned_no_dups)"
      ]
    },
    {
      "cell_type": "markdown",
      "id": "cc5cd8a5-c8bd-498c-b8b5-25dd74cdd2c6",
      "metadata": {},
      "source": [
        "5. Check whether the customers all have unique AccountIDs.  If not, provide the first example of a non-unique AccountId."
      ]
    },
    {
      "cell_type": "markdown",
      "id": "9b4f3f46-b09e-4a48-a3f4-72e1d1ba77fc",
      "metadata": {},
      "source": [
        "Suggested Google search or ChatGPT prompt: \"how can I find the first non-unique item from a pandas Series in python\"\n",
        "\n",
        "By the way: why didn't I ask the question \"how can I check whether the customers all have unique AccountIDs\"?\n",
        "\n",
        "The problem would be that Google and ChatGPT don't know what \"customers\" you are talking about.  It's important to understand that the AccountIDs are a column of a DataFrame, and as such they are a Series.  Therefore, we should use the correct vocabulary and ask about a Series.  If you mess up and ask about a \"list\" instead of a Series, you _might_ get an answer that still works.  But it's better to get the vocabularly right.\n",
        "\n",
        "It's important to add \"in python\" because this task could be performed in many languages.\n",
        "\n",
        "ChatGPT gave me this suggestion: data[data.isin(data[data.duplicated()])].iloc[0]\n",
        "However, ChatGPT did not explain how this code worked and even claimed (falsely) that it was going to use the value_counts() function in the solution.  So although the code is correct, I personally found ChatGPT's answer very confusing.  You could, perhaps, ask ChatGPT to explain further how this code works.\n",
        "\n",
        "ChatGPT, \"How does this code work: data[data.isin(data[data.duplicated()])].iloc[0]\"\n",
        "\n",
        "On the other hand, Google leads me to the documentation for the duplicated() function:\n",
        "\n",
        "https://pandas.pydata.org/docs/reference/api/pandas.Series.duplicated.html\n",
        "\n",
        "Here, I can see that when I really need is data.duplicated(keep = False), where \"data\" should be the Series in question.  However, this just gives me a Series of boolean values indicating which ones are duplicates.  I have to somehow know that extracting the numerical values instead of a Series of booleans involves boolean indexing: data\\[data.duplicated(keep = False)].\n",
        "\n",
        "So as usual, I'd suggest that a combination of Google, documentation, and ChatGPT will give you the best information."
      ]
    },
    {
      "cell_type": "markdown",
      "id": "66e24cfb-7337-4e3d-898a-d27db445d94c",
      "metadata": {},
      "source": [
        "<b>Answer to: Suggested Google search or ChatGPT prompt: \"how can I find the first non-unique item from a pandas Series in python\"</b>\n",
        "\n",
        "Google search provides the following results: \n",
        "1. https://pandas.pydata.org/docs/reference/api/pandas.Series.duplicated.html\n",
        "2. https://stackoverflow.com/questions/72651199/finding-non-unique-rows-in-pandas-dataframe\n",
        "\n",
        "Both resources reference to use \".duplicated.\"  After reading the supporting documentation, I understood the professor's explanation of \"Here, I can see that when I really need is data.duplicated(keep = False), where \"data\" should be the Series in question.  However, this just gives me a Series of boolean values indicating which ones are duplicates.  I have to somehow know that extracting the numerical values instead of a Series of booleans involves boolean indexing: data\\[data.duplicated(keep = False)].\""
      ]
    },
    {
      "cell_type": "code",
      "execution_count": 36,
      "id": "8499909c-b59f-4d25-928a-12d18e99b5a8",
      "metadata": {
        "trusted": true
      },
      "outputs": [
        {
          "name": "stdout",
          "output_type": "stream",
          "text": [
            "Index(['CustomerID', 'BirthDate', 'SSN', 'AccountID', 'AccountOpened',\n",
            "       'AccountType'],\n",
            "      dtype='object')\n"
          ]
        }
      ],
      "source": [
        "#confirm name of colimns (I had a hard time running the code - I kept getting errors due to the column name)\n",
        "print(df_bank_loaded.columns)"
      ]
    },
    {
      "cell_type": "code",
      "execution_count": 37,
      "id": "bcf0d07b-0d39-4330-85ee-6f4614136079",
      "metadata": {
        "trusted": true
      },
      "outputs": [
        {
          "name": "stdout",
          "output_type": "stream",
          "text": [
            "1st non-unique AccountID: 67.0\n"
          ]
        }
      ],
      "source": [
        "#column to check\n",
        "column_to_check = \"AccountID\"\n",
        "\n",
        "#get all non-unique values in the column\n",
        "non_unique_values = df_bank_loaded[column_to_check][df_bank_loaded[column_to_check].duplicated(keep=False)]\n",
        "\n",
        "#get the first non-unique value\n",
        "first_non_unique = non_unique_values.iloc[0] if not non_unique_values.empty else None\n",
        "\n",
        "print(f\"1st non-unique AccountID: {first_non_unique}\")\n"
      ]
    },
    {
      "cell_type": "markdown",
      "id": "754c31c5-e1d2-4387-bbe8-d156e731483a",
      "metadata": {},
      "source": [
        "<b>Answer to: Suggested Google search or ChatGPT prompt: \"how can I find out how many distinct items there are in a pandas Series using python\"</b>\n",
        "\n",
        "These pages provide information about how to code this question:\n",
        "1. https://www.geeksforgeeks.org/how-to-count-distinct-values-of-a-pandas-dataframe-column/\n",
        "2. https://www.geeksforgeeks.org/python-pandas-series-duplicated/\n",
        "3. https://pandas.pydata.org/docs/reference/api/pandas.Series.duplicated.html\n",
        "\n",
        "To count the number of distinct items in a pandas Series, per GeeksforGeeks, I can use the .nunique() method. See code below:"
      ]
    },
    {
      "cell_type": "markdown",
      "id": "ed68b682-fb52-4c2d-a172-5a76aa31395b",
      "metadata": {},
      "source": [
        "6. Count how many distinct AccountIDs there are.\n",
        "Suggested Google search or ChatGPT prompt: \"how can I find out how many distinct items there are in a pandas Series using python\"\n",
        "\n",
        "This time Google provides me with a page that's specifically made to answer this question:\n",
        "\n",
        "https://www.geeksforgeeks.org/how-to-count-distinct-values-of-a-pandas-dataframe-column/"
      ]
    },
    {
      "cell_type": "code",
      "execution_count": 38,
      "id": "1840a13b-92fc-4137-a1f6-2f43323586bf",
      "metadata": {
        "trusted": true
      },
      "outputs": [
        {
          "name": "stdout",
          "output_type": "stream",
          "text": [
            "# of distinct AccountID: 64\n"
          ]
        }
      ],
      "source": [
        "num_distinct = df_bank_loaded[\"AccountID\"].nunique()\n",
        "print(\"# of distinct AccountID:\", num_distinct)"
      ]
    },
    {
      "cell_type": "markdown",
      "id": "85058f11-6222-4511-92f6-537be74c4807",
      "metadata": {},
      "source": [
        "7. Remove the duplicate AccountIDs so that each AccountID appears only once.\n",
        "\n",
        "This will involve using data.duplicated() but this time without keep = False.  We don't want to drop all duplicates; we want to leave one example of each value."
      ]
    },
    {
      "cell_type": "markdown",
      "id": "09a86199-14a9-4a64-aec5-da85dc77e5c6",
      "metadata": {},
      "source": [
        "<b>Answer to: 7. Remove the duplicate AccountIDs so that each AccountID appears only once.</b>\n",
        "\n",
        "I completed a Google search of \"removing duplicates in python using data.duplicated\". These were the suggested resources: \n",
        "1. https://www.geeksforgeeks.org/python-ways-to-remove-duplicates-from-list/\n",
        "2. https://www.geeksforgeeks.org/python-pandas-dataframe-drop_duplicates/#google_vignette\n",
        "\n",
        "I also referenced the previous question (currently cell 65) which used data.duplicated(). Here is the updated code with \"= False\" removed. "
      ]
    },
    {
      "cell_type": "code",
      "execution_count": 39,
      "id": "d904a7ec-a21c-498b-bd1c-1b8415a48f2a",
      "metadata": {
        "trusted": true
      },
      "outputs": [
        {
          "name": "stdout",
          "output_type": "stream",
          "text": [
            "   CustomerID   BirthDate          SSN  AccountID AccountOpened AccountType\n",
            "0         0.0        1980  530-47-1866        4.0    1959-12-06    checking\n",
            "1         1.0     no date  682-76-9175       67.0    2039-02-20          cd\n",
            "2         2.0  1976-12-15  377-98-9839        NaN    2019-03-25    checking\n",
            "3         3.0  2003-10-18  474-05-7613       86.0    2004-03-02          cd\n",
            "4         4.0  1985-12-06  750-55-5509       77.0    2059-05-05          cd\n"
          ]
        }
      ],
      "source": [
        "#column to check\n",
        "column_to_check = \"AccountID\"\n",
        "\n",
        "#keep only the first time the acount ID appears in the data \n",
        "df_first_value = df_bank_loaded[~df_bank_loaded[\"AccountID\"].duplicated()]\n",
        "\n",
        "print(df_first_value.head())"
      ]
    },
    {
      "cell_type": "markdown",
      "id": "a3b55f40-7b54-462c-82a5-05960d970365",
      "metadata": {},
      "source": [
        "8. What are the mean, median, and mode customer age in years?  (Rounding down to the next lower age.)\n",
        "Are there any outliers?  (Customers with very large or very small ages, compared with the other ages?)"
      ]
    },
    {
      "cell_type": "markdown",
      "id": "48b8cb00-e676-4b21-9211-06f26edf5a61",
      "metadata": {},
      "source": [
        "Suggested Google search or ChatGPT prompt: \"how can I find out the mean, median, and mode of a pandas Series\""
      ]
    },
    {
      "cell_type": "markdown",
      "id": "3c761dda-1182-464d-a497-cc3ca99ed4dd",
      "metadata": {},
      "source": [
        "<b>Answer to: 8. What are the mean, median, and mode customer age in years?  (Rounding down to the next lower age.) Are there any outliers?  (Customers with very large or very small ages, compared with the other ages?)</b>\n",
        "\n",
        "Google result for the prompt resulted in these websites:\n",
        "1. https://www.statology.org/pandas-mean-median-mode/\n",
        "2. https://stackoverflow.com/questions/52603397/computing-mean-median-and-mode-in-python\n",
        "\n",
        "After running the code, I have a concern since all of the ages are the same:\n",
        "\n",
        "Mean Age: 45.0\n",
        "\n",
        "Median Age: 45.0\n",
        "\n",
        "Mode Age: 45.0\n",
        "\n",
        "youngest age: 45.0\n",
        "\n",
        "oldest age: 45.0\n",
        "\n",
        "I ran the code based on the my understanding of stackoverflow's direction. However, I may have done something incorrectly, such as converting the birthdate wrong. I could go back and try to correct the NaN items (missing or incorrect BirthDate values.)... However, I am not sure if I did something wrong or if this is due to the dataset we are reviewing."
      ]
    },
    {
      "cell_type": "code",
      "execution_count": 40,
      "id": "92250f99-39e1-4053-8a7e-05588bd15e93",
      "metadata": {
        "trusted": true
      },
      "outputs": [
        {
          "name": "stdout",
          "output_type": "stream",
          "text": [
            "CustomerID              float64\n",
            "BirthDate                object\n",
            "SSN                      object\n",
            "AccountID               float64\n",
            "AccountOpened    datetime64[ns]\n",
            "AccountType              object\n",
            "dtype: object\n"
          ]
        }
      ],
      "source": [
        "#check if birthdate was already converted to date/time\n",
        "print(df_bank_loaded.dtypes)"
      ]
    },
    {
      "cell_type": "code",
      "execution_count": 41,
      "id": "31f6be8c-7435-406c-8af7-fd67b0ec3b01",
      "metadata": {
        "trusted": true
      },
      "outputs": [
        {
          "name": "stdout",
          "output_type": "stream",
          "text": [
            "   BirthDate   Age\n",
            "0 1980-01-01  45.0\n",
            "1        NaT   NaN\n",
            "2        NaT   NaN\n",
            "3        NaT   NaN\n",
            "4        NaT   NaN\n"
          ]
        }
      ],
      "source": [
        "#since it has not been converted, will convert \n",
        "# Ensure 'BirthDate' is converted to a datetime format\n",
        "df_bank_loaded[\"BirthDate\"] = pd.to_datetime(df_bank_loaded[\"BirthDate\"], errors=\"coerce\")\n",
        "\n",
        "#calculate age in years and round down\n",
        "df_bank_loaded[\"Age\"] = datetime.today().year - df_bank_loaded[\"BirthDate\"].dt.year\n",
        "\n",
        "print(df_bank_loaded[[\"BirthDate\", \"Age\"]].head())"
      ]
    },
    {
      "cell_type": "code",
      "execution_count": 42,
      "id": "3eabae64-17e9-4220-934b-9489e18e45f8",
      "metadata": {
        "trusted": true
      },
      "outputs": [
        {
          "name": "stdout",
          "output_type": "stream",
          "text": [
            "mean Age: 45\n",
            "median Age: 45.0\n",
            "mode Age: 45.0\n"
          ]
        }
      ],
      "source": [
        "#mean\n",
        "mean_age = int(df_bank_loaded[\"Age\"].mean()) \n",
        "\n",
        "#median\n",
        "median_age = df_bank_loaded[\"Age\"].median()\n",
        "\n",
        "#mode\n",
        "mode_age = df_bank_loaded[\"Age\"].mode()[0]  \n",
        "\n",
        "print(f\"mean Age: {mean_age}\")\n",
        "print(f\"median Age: {median_age}\")\n",
        "print(f\"mode Age: {mode_age}\")\n"
      ]
    },
    {
      "cell_type": "code",
      "execution_count": 43,
      "id": "b8f3249d-88a8-410e-be84-42e0dd101281",
      "metadata": {
        "trusted": true
      },
      "outputs": [
        {
          "name": "stdout",
          "output_type": "stream",
          "text": [
            "youngest age: 45.0\n",
            "oldest age: 45.0\n"
          ]
        }
      ],
      "source": [
        "#obtain youngest and oldest customers\n",
        "youngest = df_bank_loaded[\"Age\"].min()\n",
        "oldest = df_bank_loaded[\"Age\"].max()\n",
        "\n",
        "print(f\"youngest age: {youngest}\")\n",
        "print(f\"oldest age: {oldest}\")\n"
      ]
    },
    {
      "cell_type": "markdown",
      "id": "b2cc3e88-aa16-4748-bf2d-b4c9672c7170",
      "metadata": {},
      "source": [
        "9. One-hot encode the AccountType column.  This means creating a new \"checking,\" \"savings\", and \"cd\" columns so that you can run machine learning algorithms."
      ]
    },
    {
      "cell_type": "code",
      "execution_count": 44,
      "id": "3ef9c041-9c44-4130-beec-c701ca1117a8",
      "metadata": {
        "trusted": true
      },
      "outputs": [
        {
          "ename": "<class 'NameError'>",
          "evalue": "name 'df1' is not defined",
          "output_type": "error",
          "traceback": [
            "\u001b[0;31m---------------------------------------------------------------------------\u001b[0m",
            "\u001b[0;31mNameError\u001b[0m                                 Traceback (most recent call last)",
            "Cell \u001b[0;32mIn[44], line 1\u001b[0m\n\u001b[0;32m----> 1\u001b[0m one_hot \u001b[38;5;241m=\u001b[39m pd\u001b[38;5;241m.\u001b[39mget_dummies(\u001b[43mdf1\u001b[49m[\u001b[38;5;124m\"\u001b[39m\u001b[38;5;124mAccountType\u001b[39m\u001b[38;5;124m\"\u001b[39m])\n\u001b[1;32m      2\u001b[0m df2 \u001b[38;5;241m=\u001b[39m df2\u001b[38;5;241m.\u001b[39mjoin(one_hot)\n\u001b[1;32m      3\u001b[0m df2\u001b[38;5;241m.\u001b[39miloc[\u001b[38;5;241m0\u001b[39m:\u001b[38;5;241m5\u001b[39m]\n",
            "\u001b[0;31mNameError\u001b[0m: name 'df1' is not defined"
          ]
        }
      ],
      "source": [
        "one_hot = pd.get_dummies(df1[\"AccountType\"])\n",
        "df2 = df2.join(one_hot)\n",
        "df2.iloc[0:5]"
      ]
    },
    {
      "cell_type": "markdown",
      "id": "ad8fd155-f21b-4508-bc02-bd225482b533",
      "metadata": {},
      "source": [
        "<b> Answer to: 9. One-hot encode the AccountType column.  This means creating a new \"checking,\" \"savings\", and \"cd\" columns so that you can run machine learning algorithms.</b>\n",
        "\n",
        "I ran the code within the assignment as-is and received the following error message:\n",
        "\n",
        "NameError                                 Traceback (most recent call last)\n",
        "\n",
        "Cell In[78], line 1\n",
        "\n",
        "----> 1 one_hot = pd.get_dummies(df1[\"AccountType\"])\n",
        "     \n",
        "      2 df2 = df2.join(one_hot)\n",
        "      \n",
        "      3 df2.iloc[0:5]\n",
        "\n",
        "NameError: name 'df1' is not defined\n",
        "\n",
        "df1/df2 was never defined as a dataframe, so I updated it to df_bank_loaded (this may have resulted in my additional errors below).\n",
        "\n",
        "I kept getting errors starting here:\n",
        "ValueError                                Traceback (most recent call last)\n",
        "Cell In[113], line 5\n",
        "      2 one_hot = pd.get_dummies(df_bank_loaded[\"AccountType\"])\n",
        "      4 # Merge the new columns with the original DataFrame\n",
        "----> 5 df_bank_loaded = df_bank_loaded.join(one_hot)\n",
        "      7 # Show the first few rows to confirm\n",
        "      8 print(df_bank_loaded.head())\n",
        "\n",
        "It appeared the one-hot encoded columns already existed in df_bank_loaded, causing a conflict when trying to join(one_hot). \n",
        "\n",
        "I'm not sure if I messed up my data previously when converting values. \n",
        "\n",
        "I googled \"one-hot encoded columns\" to find out addtional information: :\n",
        "1. https://www.geeksforgeeks.org/ml-one-hot-encoding/\n",
        "2. https://scikit-learn.org/stable/modules/generated/sklearn.preprocessing.OneHotEncoder.html\n",
        "\n",
        "I checked which columns were already established - see code below:"
      ]
    },
    {
      "cell_type": "code",
      "execution_count": 45,
      "id": "8b05e6d5-f81b-459a-ae41-da973f831375",
      "metadata": {
        "trusted": true
      },
      "outputs": [
        {
          "name": "stdout",
          "output_type": "stream",
          "text": [
            "['checking' 'cd' 'savings' nan]\n"
          ]
        }
      ],
      "source": [
        "print(df_bank_loaded[\"AccountType\"].unique())"
      ]
    },
    {
      "cell_type": "markdown",
      "id": "572ed63c-d383-4fa2-8bf3-ceeb430621eb",
      "metadata": {},
      "source": [
        "Before applying one-hot encoding, I removed existing checking, savings, and cd columns to prevent column conflicts when joining the new one-hot encoded values."
      ]
    },
    {
      "cell_type": "code",
      "execution_count": 46,
      "id": "c050f201-000e-4421-84f9-aefbf50a1e51",
      "metadata": {
        "trusted": true
      },
      "outputs": [
        {
          "name": "stdout",
          "output_type": "stream",
          "text": [
            "   CustomerID  BirthDate          SSN  AccountID AccountOpened AccountType  \\\n",
            "0         0.0 1980-01-01  530-47-1866        4.0    1959-12-06    checking   \n",
            "1         1.0        NaT  682-76-9175       67.0    2039-02-20          cd   \n",
            "2         2.0        NaT  377-98-9839        NaN    2019-03-25    checking   \n",
            "3         3.0        NaT  474-05-7613       86.0    2004-03-02          cd   \n",
            "4         4.0        NaT  750-55-5509       77.0    2059-05-05          cd   \n",
            "\n",
            "    Age     cd  checking  savings  \n",
            "0  45.0  False      True    False  \n",
            "1   NaN   True     False    False  \n",
            "2   NaN  False      True    False  \n",
            "3   NaN   True     False    False  \n",
            "4   NaN   True     False    False  \n"
          ]
        }
      ],
      "source": [
        "#remove current one-hot encoded columns\n",
        "df_bank_loaded = df_bank_loaded.drop(columns=[\"checking\", \"savings\", \"cd\"], errors=\"ignore\")\n",
        "\n",
        "#one-hot encode the 'AccountType' column\n",
        "one_hot = pd.get_dummies(df_bank_loaded[\"AccountType\"])\n",
        "\n",
        "#join the new one-hot encoded columns to the original DataFrame\n",
        "df_bank_loaded = df_bank_loaded.join(one_hot)\n",
        "\n",
        "print(df_bank_loaded.head())"
      ]
    },
    {
      "cell_type": "markdown",
      "id": "55874415-e923-4179-86ea-502458cbcd7e",
      "metadata": {},
      "source": [
        "Now, change the cd, checking, and savings columns into integers."
      ]
    },
    {
      "cell_type": "markdown",
      "id": "52df2108-a6d0-4d94-aa4d-ac7ef5278d89",
      "metadata": {},
      "source": [
        "<b> Answer to: Now, change the cd, checking, and savings columns into integers.</b>\n",
        "\n",
        "I Googled \"how to change columns into integers in python\" and located the following resources: \n",
        "1. https://www.geeksforgeeks.org/convert-a-dataframe-column-to-integer-in-pandas/\n",
        "2. https://stackoverflow.com/questions/15891038/change-column-type-in-pandas\n",
        "\n",
        "Stackflow provided the following insight, which I implemented into the code below: \n",
        "- astype() - convert (almost) any type to (almost) any other type (even if it's not necessarily sensible to do so). Also allows you to convert to categorial types (very useful)."
      ]
    },
    {
      "cell_type": "code",
      "execution_count": 47,
      "id": "edda21a5-bb8c-4824-b320-1416dd807fc0",
      "metadata": {
        "trusted": true
      },
      "outputs": [
        {
          "name": "stdout",
          "output_type": "stream",
          "text": [
            "CustomerID              float64\n",
            "BirthDate        datetime64[ns]\n",
            "SSN                      object\n",
            "AccountID               float64\n",
            "AccountOpened    datetime64[ns]\n",
            "AccountType              object\n",
            "Age                     float64\n",
            "cd                        int32\n",
            "checking                  int32\n",
            "savings                   int32\n",
            "dtype: object\n",
            "   checking  savings  cd\n",
            "0         1        0   0\n",
            "1         0        0   1\n",
            "2         1        0   0\n",
            "3         0        0   1\n",
            "4         0        0   1\n"
          ]
        }
      ],
      "source": [
        "#convert one-hot encoded columns to integer\n",
        "df_bank_loaded[[\"checking\", \"savings\", \"cd\"]] = df_bank_loaded[[\"checking\", \"savings\", \"cd\"]].astype(int)\n",
        "\n",
        "print(df_bank_loaded.dtypes)\n",
        "print(df_bank_loaded[[\"checking\", \"savings\", \"cd\"]].head())\n"
      ]
    },
    {
      "cell_type": "code",
      "execution_count": 48,
      "id": "9619f6d1-8c2f-4cc8-b8e3-9e134f3d6b19",
      "metadata": {
        "trusted": true
      },
      "outputs": [
        {
          "name": "stdout",
          "output_type": "stream",
          "text": [
            "CustomerID              float64\n",
            "BirthDate        datetime64[ns]\n",
            "SSN                      object\n",
            "AccountID               float64\n",
            "AccountOpened    datetime64[ns]\n",
            "AccountType              object\n",
            "Age                     float64\n",
            "cd                        int32\n",
            "checking                  int32\n",
            "savings                   int32\n",
            "dtype: object\n"
          ]
        }
      ],
      "source": [
        "#checked if int32 shows for checking, savings, and cd\n",
        "print(df_bank_loaded.dtypes)"
      ]
    },
    {
      "cell_type": "markdown",
      "id": "5e884d3e-1d76-42a2-9b2e-86471286aa51",
      "metadata": {},
      "source": [
        "10. Are there any other data values that do not seem right?  If not, give an example?"
      ]
    },
    {
      "cell_type": "markdown",
      "id": "5c08a456-ae6d-4c79-8ca6-41f28d5cff20",
      "metadata": {},
      "source": [
        "I don't think Google or ChatGPT alone will help you here.  To answer the question, look at the columns and think about what relationships they should have with each other.  For example, it seems reasonable to expect that BirthDate would be no earlier than 120 years ago (it's unlikely that a customer would be this old.)  Now we can ask Google:\n",
        "\n",
        "\"How can I find out how long ago a pandas date is\"\n",
        "\n",
        "Google provides this helpful link, although it is not exactly the solution - you'll have to work with it a bit:\n",
        "\n",
        "https://stackoverflow.com/questions/26072087/pandas-number-of-days-elapsed-since-a-certain-date\n",
        "\n",
        "If you check, I think you'll find that all dates are more recent than 120 years ago.  What about the AccountOpened columns?  I see some obviously wrong dates there just by looking at the first few rows.\n",
        "\n",
        "Along those same lines, are there any birth dates that are too recent?  Do we think that any two year olds will have opened bank accounts?  How common do you think this is in real life?  How common is it in our data set?  Can you detect the two year olds opening bank accounts using just one column, or do you need two columns?"
      ]
    },
    {
      "cell_type": "markdown",
      "id": "22ecf6a2-1a33-4754-be47-eb2fb6b5da4d",
      "metadata": {},
      "source": [
        "<b> Answer to: 10. Are there any other data values that do not seem right?  If not, give an example? </b>\n",
        "\n",
        "Yes, there is something wrong since the age is 45. See comments in problem #8: \n",
        "After running the code, I have a concen since all of the ages are the same:\n",
        "\n",
        "Mean Age: 45.0\n",
        "\n",
        "Median Age: 45.0\n",
        "\n",
        "Mode Age: 45.0\n",
        "\n",
        "youngest age: 45.0\n",
        "\n",
        "oldest age: 45.0\n",
        "\n",
        "Either I did something wrong or there are flaws in the data set, such as the age (the second option that the dataset is flawed is unlikely since this was a created assignment for the class). \n",
        "\n",
        "I ran the queries as requested (age > 120, < 18, and those opened prior to birth), even though I knew there would not be account holders younger than 45 based on the previous answer to #8.  Please see the code below.\n",
        "\n",
        "To answer the question \"Do we think that any two year olds will have opened bank accounts?\" -- yes, it is possible that a parent / relative opened the account on the minors behalf. We'd have to understand more about the source of the data to determine if it was for the benefit of a minor, compared to a minor actually opening an account themselves (which would be problematic if they were 2 years old or younger)."
      ]
    },
    {
      "cell_type": "code",
      "execution_count": 49,
      "id": "2f329966-b9ab-4566-9d44-1b75e1140da4",
      "metadata": {
        "trusted": true
      },
      "outputs": [
        {
          "name": "stdout",
          "output_type": "stream",
          "text": [
            "Customers > 120 years:\n",
            "Empty DataFrame\n",
            "Columns: [CustomerID, BirthDate, SSN, AccountID, AccountOpened, AccountType, Age, cd, checking, savings]\n",
            "Index: []\n",
            "Customers < 18 years:\n",
            "Empty DataFrame\n",
            "Columns: [CustomerID, BirthDate, SSN, AccountID, AccountOpened, AccountType, Age, cd, checking, savings]\n",
            "Index: []\n",
            "Accounts opened before birth:\n",
            "   CustomerID  BirthDate          SSN  AccountID AccountOpened AccountType  \\\n",
            "0         0.0 1980-01-01  530-47-1866        4.0    1959-12-06    checking   \n",
            "\n",
            "    Age  cd  checking  savings  \n",
            "0  45.0   0         1        0  \n"
          ]
        }
      ],
      "source": [
        "#find customers older than 120 years\n",
        "old_customers = df_bank_loaded[df_bank_loaded[\"Age\"] > 120]\n",
        "print(\"Customers > 120 years:\")\n",
        "print(old_customers)\n",
        "\n",
        "#f customers younger than 18 years\n",
        "young_customers = df_bank_loaded[df_bank_loaded[\"Age\"] < 18]\n",
        "print(\"Customers < 18 years:\")\n",
        "print(young_customers)\n",
        "\n",
        "#find accounts that were opened before birth\n",
        "bad_accounts = df_bank_loaded[df_bank_loaded[\"AccountOpened\"].dt.year < df_bank_loaded[\"BirthDate\"].dt.year]\n",
        "print(\"Accounts opened before birth:\")\n",
        "print(bad_accounts)\n"
      ]
    },
    {
      "cell_type": "markdown",
      "id": "63be984a-21d0-43e7-8a55-fb8a67b8a351",
      "metadata": {},
      "source": [
        "11. Use Matplotlib and/or Seaborn to analyse the ages at which customers open their account.  Is there a connection between the year they are born vs. the age at which they open the account?  Graph this in whatever way you think is best."
      ]
    },
    {
      "cell_type": "markdown",
      "id": "84574af6-9f3a-481a-843a-877388973ef2",
      "metadata": {},
      "source": [
        "I asked Google and ChatGPT: \"How can I plot dates vs. dates in Matplotlib\".  This gave me a hard time at first - I had to tell ChatGPT it was giving me the wrong information because it tried to plot dates vs. numbers.  Eventually, I found out that you plot dates vs. dates in the same way you'd plot numbers vs. numbers.\n",
        "\n",
        "Think in terms of Storytelling With Data to plot these as best you can.  Once you've seen the result, try to think of the best way to plot the data so as to show the user what you want them to see.  Title the graph so as to display the lesson that you want the user to take away.\n",
        "Here are some options for the axes:\n",
        "\n",
        "1. A scatter or line plot: On the x-axis, the date they are born.  On the y-axis, the date they open the account.\n",
        "2. A scatter or line plot: On the x-axis, the date they are born.  On the y-axis, the age in years at which they open the account.\n",
        "3. A scatter or line plot: On the x-axis, they year (integer) they are born.  On the y-axis, the age in years at which they open the account.\n",
        "4. A histogram: on the x-axis, the age at which they open the account.\n",
        "\n",
        "Here is an example:"
      ]
    },
    {
      "cell_type": "code",
      "execution_count": 50,
      "id": "453acced-f7b1-4bb5-943d-716ae0505ace",
      "metadata": {
        "trusted": true
      },
      "outputs": [
        {
          "name": "stderr",
          "output_type": "stream",
          "text": [
            "Matplotlib is building the font cache; this may take a moment.\n"
          ]
        },
        {
          "data": {
            "image/png": "[encoded data removed]",
            "text/plain": [
              "<Figure size 640x480 with 1 Axes>"
            ]
          },
          "metadata": {},
          "output_type": "display_data"
        },
        {
          "ename": "<class 'NameError'>",
          "evalue": "name 'df2' is not defined",
          "output_type": "error",
          "traceback": [
            "\u001b[0;31m---------------------------------------------------------------------------\u001b[0m",
            "\u001b[0;31mNameError\u001b[0m                                 Traceback (most recent call last)",
            "Cell \u001b[0;32mIn[50], line 4\u001b[0m\n\u001b[1;32m      1\u001b[0m \u001b[38;5;28;01mimport\u001b[39;00m \u001b[38;5;21;01mmatplotlib\u001b[39;00m\u001b[38;5;21;01m.\u001b[39;00m\u001b[38;5;21;01mpyplot\u001b[39;00m \u001b[38;5;28;01mas\u001b[39;00m \u001b[38;5;21;01mplt\u001b[39;00m\n\u001b[1;32m      3\u001b[0m ax \u001b[38;5;241m=\u001b[39m plt\u001b[38;5;241m.\u001b[39mgca() \u001b[38;5;66;03m# get an \"Axes\" object to draw on; gca stands for \"get current Axes\"\u001b[39;00m\n\u001b[0;32m----> 4\u001b[0m ax\u001b[38;5;241m.\u001b[39mscatter(\u001b[43mdf2\u001b[49m[\u001b[38;5;124m\"\u001b[39m\u001b[38;5;124mBirthDate\u001b[39m\u001b[38;5;124m\"\u001b[39m], df2[\u001b[38;5;124m\"\u001b[39m\u001b[38;5;124mAccountOpened\u001b[39m\u001b[38;5;124m\"\u001b[39m]) \u001b[38;5;66;03m# create a scatter plot based on these two dates\u001b[39;00m\n\u001b[1;32m      5\u001b[0m ax\u001b[38;5;241m.\u001b[39mset_ylabel(\u001b[38;5;124m\"\u001b[39m\u001b[38;5;124mAccount Opened\u001b[39m\u001b[38;5;124m\"\u001b[39m) \u001b[38;5;66;03m# label the y axis\u001b[39;00m\n\u001b[1;32m      6\u001b[0m ax\u001b[38;5;241m.\u001b[39mset_xlabel(\u001b[38;5;124m\"\u001b[39m\u001b[38;5;124mBirth Date\u001b[39m\u001b[38;5;124m\"\u001b[39m) \u001b[38;5;66;03m# label the x axis\u001b[39;00m\n",
            "\u001b[0;31mNameError\u001b[0m: name 'df2' is not defined"
          ]
        }
      ],
      "source": [
        "import matplotlib.pyplot as plt\n",
        "\n",
        "ax = plt.gca() # get an \"Axes\" object to draw on; gca stands for \"get current Axes\"\n",
        "ax.scatter(df2[\"BirthDate\"], df2[\"AccountOpened\"]) # create a scatter plot based on these two dates\n",
        "ax.set_ylabel(\"Account Opened\") # label the y axis\n",
        "ax.set_xlabel(\"Birth Date\") # label the x axis"
      ]
    },
    {
      "cell_type": "markdown",
      "id": "1d2fd2a7-b1cb-4a77-9c37-ee609b3cb0e4",
      "metadata": {},
      "source": [
        "<b>Answer to 11. Use Matplotlib and/or Seaborn to analyse the ages at which customers open their account.  Is there a connection between the year they are born vs. the age at which they open the account?  Graph this in whatever way you think is best.</b>\n",
        "\n",
        "My output is most likely incorrect due to the following |reasons:\n",
        "1. Age for mean/median/mode is all 45. This must be inaccurate based on the questions within this material. I cannot identify at what point I ran code that caused this error. I initially observed the issue in problem #8.\n",
        "2. I was unable to run df1/df2 in the example above since that had not been defined.\n",
        "\n",
        "Ecample of error message when I ran df2 in the example above since that had not been defined.\n",
        "NameError                                 Traceback (most recent call last)\n",
        "\n",
        "Cell In[127], line 4\n",
        "\n",
        "      1 import matplotlib.pyplot as plt\n",
        "      \n",
        "      3 ax = plt.gca() # get an \"Axes\" object to draw on; gca stands for \"get current Axes\"\n",
        "---->\n",
        "4 ax.scatter(df2[\"BirthDate\"], df2[\"AccountOpened\"]) # create a scatter plot based on these two dates\n",
        "\n",
        "      5 ax.set_ylabel(\"Account Opened\") # label the y axis\n",
        "      \n",
        "      6 ax.set_xlabel(\"Birth Date\") # label the x axis\n",
        "\n",
        "NameError: name 'df2' is not defined\n",
        "\n",
        "Due to this error, I updated the df reference in the code below:"
      ]
    },
    {
      "cell_type": "code",
      "execution_count": 51,
      "id": "57aae2a1-2352-4210-867a-0561600260fc",
      "metadata": {
        "trusted": true
      },
      "outputs": [
        {
          "data": {
            "image/png": "[encoded data removed]",
            "text/plain": [
              "<Figure size 800x500 with 1 Axes>"
            ]
          },
          "metadata": {},
          "output_type": "display_data"
        }
      ],
      "source": [
        "#scatter plot: Birth Year vs. Account Opening\n",
        "plt.figure(figsize=(8,5))\n",
        "plt.scatter(df_bank_loaded[\"BirthDate\"].dt.year, df_bank_loaded[\"AccountOpened\"].dt.year, alpha=0.5)\n",
        "plt.xlabel(\"Year of Birth\")\n",
        "plt.ylabel(\"Year Account Opened\")\n",
        "plt.title(\"Birth Year vs. Account Opened Year\")\n",
        "plt.show()"
      ]
    },
    {
      "cell_type": "markdown",
      "id": "5d9de473-25de-4b77-8cf7-5d97d7088148",
      "metadata": {},
      "source": [
        "In an effort to show the graph, I will fill in the missing birth dates with an estimate by replacing NaN BirthDates with January 1st of the most common year"
      ]
    },
    {
      "cell_type": "code",
      "execution_count": 52,
      "id": "7aadff72-1a06-4fb7-8bee-4d993ec09cf6",
      "metadata": {
        "trusted": true
      },
      "outputs": [],
      "source": [
        "##most common birth year\n",
        "common_birth_year = int(df_bank_loaded[\"BirthDate\"].dt.year.mode()[0]) \n",
        "\n",
        "#replace NaN BirthDates with January 1st of the most common year\n",
        "df_bank_loaded[\"BirthDate\"].fillna(pd.to_datetime(f\"{common_birth_year}-01-01\"), inplace=True)"
      ]
    },
    {
      "cell_type": "code",
      "execution_count": 53,
      "id": "4ddb7836-fdda-47b9-9b4c-2585b9a85cc4",
      "metadata": {
        "trusted": true
      },
      "outputs": [
        {
          "data": {
            "image/png": "[encoded data removed]",
            "text/plain": [
              "<Figure size 800x500 with 1 Axes>"
            ]
          },
          "metadata": {},
          "output_type": "display_data"
        }
      ],
      "source": [
        "#graph with using estimated birthdates\n",
        "plt.figure(figsize=(8,5))\n",
        "plt.scatter(df_bank_loaded[\"BirthDate\"].dt.year, df_bank_loaded[\"AccountOpened\"].dt.year, alpha=0.6, s=50)\n",
        "plt.xlabel(\"Year of Birth\")\n",
        "plt.ylabel(\"Year Account Opened\")\n",
        "plt.title(\"Birth Year vs. Account Opened Year\")\n",
        "plt.grid(True)  # Adds a grid for better readability\n",
        "plt.show()\n"
      ]
    },
    {
      "cell_type": "markdown",
      "id": "f5d2ca82-ea81-46e5-9002-8321987d08d9",
      "metadata": {},
      "source": [
        "# 4. Storytelling With Data graph"
      ]
    },
    {
      "cell_type": "markdown",
      "id": "b00e6940-4a0c-4b3e-93dd-460239bf9940",
      "metadata": {},
      "source": [
        "Choose any graph in the Introduction of Storytelling With Data.  Using matplotlib to reproduce it in a rough way.  I don't expect you to spend an enormous amount of time on this; I understand that you likely will not have time to re-create every feature of the graph.  However, if you're excited about learning to use matplotlib, this is a good way to do that.  You don't have to duplicate the exact values on the graph; just the same rough shape will be enough.  If you don't feel comfortable using matplotlib yet, do the best you can and write down what you tried or what Google searches you did to find the answers."
      ]
    },
    {
      "cell_type": "markdown",
      "id": "2cefcf6b-13a6-4d38-bee5-f9ac1be0f8f9",
      "metadata": {},
      "source": [
        "<b> Answer: I chose to use the bar grph on page 21 in the Introduction of Storytelling with data (reference: Figure 0.5 Example 2 (after): storytelling with data). </b>"
      ]
    },
    {
      "cell_type": "code",
      "execution_count": 54,
      "id": "718dc687-5fd7-4ae3-b066-beeac7a75d8a",
      "metadata": {
        "trusted": true
      },
      "outputs": [
        {
          "data": {
            "image/png": "[encoded data removed]",
            "text/plain": [
              "<Figure size 800x500 with 1 Axes>"
            ]
          },
          "metadata": {},
          "output_type": "display_data"
        }
      ],
      "source": [
        "#count of account types\n",
        "account_type_counts = df_bank_loaded[\"AccountType\"].value_counts()\n",
        "\n",
        "#create a bar chart\n",
        "plt.figure(figsize=(8,5))\n",
        "plt.bar(account_type_counts.index, account_type_counts.values)\n",
        "\n",
        "#add labels and title and show\n",
        "plt.xlabel(\"Account Type\")\n",
        "plt.ylabel(\"Number of Customers\")\n",
        "plt.title(\"# of Account Types\")\n",
        "plt.show()\n"
      ]
    },
    {
      "cell_type": "code",
      "execution_count": null,
      "id": "b2718765-bb30-416f-8c0c-4ac0b2d20001",
      "metadata": {
        "trusted": true
      },
      "outputs": [],
      "source": []
    }
  ],
  "metadata": {
    "kernelspec": {
      "display_name": "Python (Pyodide)",
      "language": "python",
      "name": "python"
    },
    "language_info": {
      "codemirror_mode": {
        "name": "python",
        "version": 3
      },
      "file_extension": ".py",
      "mimetype": "text/x-python",
      "name": "python",
      "nbconvert_exporter": "python",
      "pygments_lexer": "ipython3",
      "version": "3.8"
    }
  },
  "nbformat": 4,
  "nbformat_minor": 5
}
